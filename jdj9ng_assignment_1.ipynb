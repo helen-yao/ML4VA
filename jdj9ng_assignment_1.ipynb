{
  "cells": [
    {
      "cell_type": "markdown",
      "metadata": {
        "colab_type": "text",
        "id": "view-in-github"
      },
      "source": [
        "<a href=\"https://colab.research.google.com/github/larissacybyk/machine-learning/blob/main/jdj9ng_assignment_1.ipynb\" target=\"_parent\"><img src=\"https://colab.research.google.com/assets/colab-badge.svg\" alt=\"Open In Colab\"/></a>"
      ]
    },
    {
      "cell_type": "markdown",
      "metadata": {
        "id": "s-RzEZEBR10z"
      },
      "source": [
        "# Assignment 1: Comparison of Regression Models on Predicting Medical Costs"
      ]
    },
    {
      "cell_type": "markdown",
      "metadata": {
        "id": "0qYDyMDTR100"
      },
      "source": [
        "### CS 4774 Machine Learning - Department of Computer Science - University of Virginia\n",
        "![Medical Cost](https://creditkarma-cms.imgix.net/wp-content/uploads/2018/04/boomers-gen-x-high-cost-medical-care.jpg)\n",
        "In this assignment, you will implement some learning models in the context of a **regression** problem in the [Medical Cost Personal Dataset on Kaggle](https://www.kaggle.com/mirichoi0218/insurance). Specifically, you will attempt to predict the medical cost billed by health insurance using other provided patient's data. For references, you may refer to [my slides](https://docs.google.com/presentation/d/10D1he89peAWaFgjtZlHpUzvOOAie_vIFT95htKCKgc0/edit#slide=id.p) or the Google Colab if you need additional sample codes to help with your assignment. To get started, you will need to upload/copy the dataset (.csv) into the same folder as this file.\n",
        "\n",
        "For deliverables, you must write code in Colab and submit the downloaded Jupyter Notebook file (.ipynb) to earn a total of 100 pts depending on how you perform in the following sections.\n",
        "\n",
        "To get started, you must make a copy of this template and rename it under this format: **yourUVaID_assignment_1.ipynb**. You will need to submit it with all of your outputs included to Gradecope.\n"
      ]
    },
    {
      "cell_type": "markdown",
      "metadata": {
        "id": "l0lLa-xiR101"
      },
      "source": [
        "***\n",
        "##  Task 1: SEE THE BIG PICTURE\n",
        "Write a paragraph explaining the context of the problem in which you are trying to investigate. We will assume that the data file is put into the same workspace on Colab. Then, you can write some code to load the CSV file and take a quick look at the dataset, and output the following:\n",
        "\n",
        " * How big is your dataset? (in terms of MB)\n",
        " * How many entries does it have?\n",
        " * How many features does it have?\n",
        " * Does it contain any categorical data?\n",
        " * Is there any missing value?\n",
        " * What are some basic statistics you can learn right away about this dataset?"
      ]
    },
    {
      "cell_type": "markdown",
      "metadata": {},
      "source": [
        "Context of the problem:\n",
        "The goal of this problem is to estimate the insurance charges based of a person's age, sex, bmi, etc. It will use the Medical Cost dataset from kaggle. A gradient descent model will be used to predict the charges for a person."
      ]
    },
    {
      "cell_type": "code",
      "execution_count": 93,
      "metadata": {
        "id": "ujitZUYeR101"
      },
      "outputs": [
        {
          "name": "stdout",
          "output_type": "stream",
          "text": [
            "<class 'pandas.core.frame.DataFrame'>\n",
            "RangeIndex: 1338 entries, 0 to 1337\n",
            "Data columns (total 7 columns):\n",
            " #   Column    Non-Null Count  Dtype  \n",
            "---  ------    --------------  -----  \n",
            " 0   age       1338 non-null   int64  \n",
            " 1   sex       1338 non-null   object \n",
            " 2   bmi       1338 non-null   float64\n",
            " 3   children  1338 non-null   int64  \n",
            " 4   smoker    1338 non-null   object \n",
            " 5   region    1338 non-null   object \n",
            " 6   charges   1338 non-null   float64\n",
            "dtypes: float64(2), int64(2), object(3)\n",
            "memory usage: 73.3+ KB\n",
            "None\n",
            "age         0\n",
            "sex         0\n",
            "bmi         0\n",
            "children    0\n",
            "smoker      0\n",
            "region      0\n",
            "charges     0\n",
            "dtype: int64\n",
            "               age          bmi     children       charges\n",
            "count  1338.000000  1338.000000  1338.000000   1338.000000\n",
            "mean     39.207025    30.663397     1.094918  13270.422265\n",
            "std      14.049960     6.098187     1.205493  12110.011237\n",
            "min      18.000000    15.960000     0.000000   1121.873900\n",
            "25%      27.000000    26.296250     0.000000   4740.287150\n",
            "50%      39.000000    30.400000     1.000000   9382.033000\n",
            "75%      51.000000    34.693750     2.000000  16639.912515\n",
            "max      64.000000    53.130000     5.000000  63770.428010\n"
          ]
        }
      ],
      "source": [
        "# Import some common packages\n",
        "import os\n",
        "import numpy as np\n",
        "import matplotlib\n",
        "import matplotlib.pyplot as plt\n",
        "import pandas as pd\n",
        "\n",
        "# to make this notebook's output stable across runs\n",
        "np.random.seed(42)\n",
        "\n",
        "# Your code goes here for this section, make sure you also include the output to answer the above questions.\n",
        "\n",
        "insurance = pd.read_csv(\"./insurance.csv\")\n",
        "\n",
        "# outputting answers\n",
        "print(insurance.info()) #73.3 kb --> 0.0733 MB, 1338 entries, 7 features, includes 3 categorical attributes (object type), \n",
        "print(insurance.isnull().sum()) # no null values\n",
        "print(insurance.describe()) # mean, min, max, median, first and third quartile, etc"
      ]
    },
    {
      "cell_type": "markdown",
      "metadata": {
        "id": "Xfw6nVzoR104"
      },
      "source": [
        "---\n",
        "##  Task 2: DATA DISCOVERY, CLEANING, AND SCALING\n",
        "\n",
        "**Data Discover:** Plot out all correlations among the features. You should notice some features are more correlated with your predicted value than other. This information will help you confirm that weights of your regression model later on.\n",
        "\n",
        "**Data Cleaning:** If your dataset has some missing values, make sure you are able to fill those values with the Imputer class. If your dataset has categorical features, make sure you conver those features into numerical using OneHotEncoder class.\n",
        "\n",
        "**Feature Scaling** More importantly, your task is to write some codes to normalize the value of each features as follow:\n",
        "\n",
        "* Subtract the mean value of each feature from the dataset\n",
        "* Scale (divide) the feature values by their respective standard deviation\n",
        "\n",
        "**Implementation Note:** You will need to integrate the above operations into a Pipeline to process and transform the training data, then use the same pipeline to transform any validation and testing data."
      ]
    },
    {
      "cell_type": "code",
      "execution_count": 28,
      "metadata": {
        "id": "KI2IIJdHR104"
      },
      "outputs": [],
      "source": [
        "# You might want to use the following package\n",
        "from sklearn.model_selection import train_test_split\n",
        "from pandas.plotting import scatter_matrix # optional\n",
        "from sklearn.impute import SimpleImputer\n",
        "from sklearn.preprocessing import LabelEncoder\n",
        "from sklearn.preprocessing import OneHotEncoder\n",
        "from sklearn.pipeline import Pipeline\n",
        "from sklearn.preprocessing import StandardScaler\n",
        "\n",
        "# Your code goes here for this section."
      ]
    },
    {
      "cell_type": "code",
      "execution_count": 29,
      "metadata": {},
      "outputs": [
        {
          "data": {
            "image/png": "[encoded data removed]",
            "text/plain": [
              "<Figure size 480x480 with 2 Axes>"
            ]
          },
          "metadata": {},
          "output_type": "display_data"
        }
      ],
      "source": [
        "#plotting correlation\n",
        "plt.matshow(insurance.corr(numeric_only=True))\n",
        "\n",
        "# plt.xticks(range(insurance.select_dtypes(['number']).shape[1]), insurance.select_dtypes(['number']).columns, fontsize=10, rotation=90)\n",
        "# plt.yticks(range(insurance.select_dtypes(['number']).shape[1]), insurance.select_dtypes(['number']).columns, fontsize=10)\n",
        "\n",
        "plt.xticks(range(insurance.select_dtypes(['number']).shape[1]), insurance.select_dtypes(['number']).columns, fontsize=10, rotation=90)\n",
        "plt.yticks(range(insurance.select_dtypes(['number']).shape[1]), insurance.select_dtypes(['number']).columns, fontsize=10)\n",
        "\n",
        "cb = plt.colorbar()\n",
        "cb.ax.tick_params(labelsize=5)\n",
        "\n",
        "plt.title('Correlation Matrix')\n",
        "plt.show()"
      ]
    },
    {
      "cell_type": "code",
      "execution_count": 30,
      "metadata": {},
      "outputs": [],
      "source": [
        "# imports\n",
        "from sklearn.model_selection import train_test_split\n",
        "from sklearn.impute import SimpleImputer\n",
        "from sklearn.preprocessing import StandardScaler\n",
        "from sklearn.pipeline import Pipeline\n",
        "from sklearn.preprocessing import OneHotEncoder\n",
        "from sklearn.compose import ColumnTransformer"
      ]
    },
    {
      "cell_type": "code",
      "execution_count": 94,
      "metadata": {},
      "outputs": [],
      "source": [
        "insurance_tr = insurance.copy()\n",
        "insurance_tr.head()\n",
        "insurance = insurance_tr.drop(\"charges\", axis=1)\n",
        "insurance_labels = insurance_tr[\"charges\"].copy()\n",
        "\n",
        "X_train, X_test, y_train, y_test = train_test_split(insurance, insurance_labels, test_size=0.2)"
      ]
    },
    {
      "cell_type": "code",
      "execution_count": 95,
      "metadata": {},
      "outputs": [],
      "source": [
        "imputer = SimpleImputer(strategy=\"median\")\n",
        "std_scaler = StandardScaler()\n",
        "\n",
        "num_pipeline = Pipeline([\n",
        "    (\"imputer\", imputer),\n",
        "    (\"std_scaler\", std_scaler)\n",
        "])\n",
        "num_col = insurance.select_dtypes(['number']).columns\n",
        "\n",
        "# converting categorical data\n",
        "cat_encoder = OneHotEncoder(handle_unknown=\"ignore\")\n",
        "cat_col = insurance.select_dtypes(['object']).columns\n",
        "\n",
        "# full pipeline\n",
        "full_pipeline = ColumnTransformer([\n",
        "    (\"num\", num_pipeline, num_col),\n",
        "    (\"cat\", cat_encoder, cat_col)\n",
        "])"
      ]
    },
    {
      "cell_type": "code",
      "execution_count": 96,
      "metadata": {},
      "outputs": [],
      "source": [
        "insurance_prepared = full_pipeline.fit_transform(X_train)"
      ]
    },
    {
      "cell_type": "markdown",
      "metadata": {
        "id": "JRW5HPBzR106"
      },
      "source": [
        "- - -\n",
        "## Task 3. IMPLEMENT GRADIENT DESCENT\n",
        "The gradient descent formulation remain the same as one in the lecture. Keep in mind that you will need to add a column $\\textbf{x}_0$ with all 1s as part of the training data. You should write code to implement the **MyLinearRegression** class and its predefined methods.\n",
        "\n",
        "**Gradient Descent:** Notes that you may NOT call the library linear regression which defeats the purpose of this assignment. Make sure your code is well-vectorized."
      ]
    },
    {
      "cell_type": "code",
      "execution_count": 97,
      "metadata": {
        "id": "XOhAxyK1R107"
      },
      "outputs": [
        {
          "name": "stderr",
          "output_type": "stream",
          "text": [
            "C:\\Users\\l3n3c\\AppData\\Local\\Temp\\ipykernel_25200\\3701974706.py:53: FutureWarning: Calling float on a single element Series is deprecated and will raise a TypeError in the future. Use float(ser.iloc[0]) instead\n",
            "  cost[iteration] = (1 / len(X_train)) * ((X_train.dot(self.theta) - y_train)**2).sum()\n"
          ]
        }
      ],
      "source": [
        "# NOTE: You may not use the library Linear Regression, but implement your own!\n",
        "# REMEMBER to place self.attribute = [] with value from your implementation\n",
        "\n",
        "class MyLinearRegression:\n",
        "  \"\"\"\n",
        "  Define what a linear regressor can do\n",
        "  \"\"\"\n",
        "\n",
        "  def __init__ (self):\n",
        "    \"\"\"\n",
        "    Initialize the regressor\n",
        "    \"\"\"\n",
        "    self.theta = [] # parameter vector;\n",
        "    self.alpha = 0.001 # learning rate\n",
        "    self.cost  = -1 # cost function\n",
        "\n",
        "  def fitUsingGradientDescent(self, X_train, y_train):\n",
        "    \"\"\"\n",
        "    Train the regressor using gradient descent\n",
        "    \"\"\"\n",
        "    # implementation code here\n",
        "    X_b = np.c_[np.ones(len(X_train)), X_train]\n",
        "    self.theta = np.random.randn(len(X_b[0]), 1)\n",
        "    self.theta, self.cost = self.gradientDescent(X_b, y_train, self.theta, self.alpha, 250)\n",
        "\n",
        "  def fitUsingNormalEquation(self, X_train, y_train):\n",
        "    \"\"\"\n",
        "    Training using the Normal (close form) equation\n",
        "    \"\"\"\n",
        "    # implementation code here for Task 4.\n",
        "    X_b = np.c_[np.ones(len(X_train)), X_train]\n",
        "    theta_best = np.linalg.pinv(X_b.T.dot(X_b)).dot(X_b.T).dot(y_train)\n",
        "    self.theta = theta_best;\n",
        "\n",
        "  def gradientDescent(self, X_train, y_train, theta, alpha, iters):\n",
        "    \"\"\"\n",
        "    Implementatation of the gradient descent\n",
        "    INPUT:\n",
        "    alpha: the learning rate\n",
        "    iters: number of iterations\n",
        "\n",
        "    OUTPUT:\n",
        "    theta: updated value for theta\n",
        "    cost: value of the cost function\n",
        "    \"\"\"\n",
        "    # implementation code here\n",
        "    cost = np.zeros(iters)\n",
        "\n",
        "    for iteration in range(iters): \n",
        "      gradient = (2 / len(X_train)) * (X_train.T.dot(X_train.dot(self.theta) - y_train))\n",
        "      self.theta = self.theta - alpha * gradient\n",
        "\n",
        "      cost[iteration] = (1 / len(X_train)) * ((X_train.dot(self.theta) - y_train)**2).sum()\n",
        "\n",
        "    # y_predicted = self.predict(X_train)\n",
        "    # cost = mean_square_error(y_train, y_predicted)\n",
        "\n",
        "    \n",
        "\n",
        "    return self.theta, cost\n",
        "\n",
        "\n",
        "  def predict(self, X_test):\n",
        "    \"\"\"\n",
        "    Predicting the label\n",
        "    \"\"\"\n",
        "    # implementation code here\n",
        "    X = np.c_[np.ones((len(X_test), 1)), X_test]\n",
        "    y_predict = X.dot(self.theta)\n",
        "\n",
        "    return y_predict\n",
        "\n",
        "  def __str__(self):\n",
        "    \"\"\"\n",
        "    Print out the parameter out when call print()\n",
        "    \"\"\"\n",
        "    # implement here to return(\"Parameter vector is %f\" % self.theta)   }\n",
        "    return(\"Parameter vector is {}\".format(self.theta))\n",
        "\n",
        "# Your code goes here to call the instance of class MyLinearRegression\n",
        "myGradientDescentModel = MyLinearRegression()\n",
        "\n",
        "y_train = pd.DataFrame(y_train)\n",
        "myGradientDescentModel.fitUsingGradientDescent(insurance_prepared, y_train)"
      ]
    },
    {
      "cell_type": "markdown",
      "metadata": {
        "id": "9mbKbih2R109"
      },
      "source": [
        "* **Learning Rate:** You will try out different learning rates for the dataset and find a learning rate that converges quickly. If you pick a learning rate, your plot of Cost Function $J(\\theta)$ against number of iteration will quickly decay to a small value. This also indicates that your implementation is correct. If your learning rate is too large, the cost function $J(\\theta)$ can diverge and blow up. From the below plot, you must be able to report the best learning rate the you found to earn credit for this section."
      ]
    },
    {
      "cell_type": "code",
      "execution_count": 98,
      "metadata": {
        "id": "sBdljd94R109"
      },
      "outputs": [
        {
          "name": "stderr",
          "output_type": "stream",
          "text": [
            "C:\\Users\\l3n3c\\AppData\\Local\\Temp\\ipykernel_25200\\3701974706.py:53: FutureWarning: Calling float on a single element Series is deprecated and will raise a TypeError in the future. Use float(ser.iloc[0]) instead\n",
            "  cost[iteration] = (1 / len(X_train)) * ((X_train.dot(self.theta) - y_train)**2).sum()\n"
          ]
        },
        {
          "data": {
            "image/png": "[encoded data removed]",
            "text/plain": [
              "<Figure size 640x480 with 1 Axes>"
            ]
          },
          "metadata": {},
          "output_type": "display_data"
        }
      ],
      "source": [
        "# Use the following code to plot out your learning rate\n",
        "# iters and cost must be supplied to plot out the cost function\n",
        "# You must plot multiple curves corresponding to different learning rates to justify the best one.\n",
        "\n",
        "\n",
        "import matplotlib.pyplot as plt\n",
        "iters = [i for i in range(len(myGradientDescentModel.cost))]\n",
        "\n",
        "for i in range(5, 50, 5):\n",
        "  alpha = 1/i\n",
        "  myGradientDescentModel.alpha = 1/i\n",
        "  myGradientDescentModel.fitUsingGradientDescent(insurance_prepared, y_train)\n",
        "  plt.plot(iters, myGradientDescentModel.cost, label=f'Alpha = {alpha:.3f}')\n",
        "\n",
        "plt.xlabel = 'Iterations'\n",
        "plt.ylabel = 'Cost'\n",
        "plt.title = 'Error vs. Training Iterations'\n",
        "plt.legend()\n",
        "\n",
        "plt.show()"
      ]
    },
    {
      "cell_type": "markdown",
      "metadata": {
        "id": "_OSBr-iNR10_"
      },
      "source": [
        "- - -\n",
        "## Task 4. IMPLEMENT THE NORMAL EQUATION"
      ]
    },
    {
      "cell_type": "markdown",
      "metadata": {
        "id": "8Pnn0NEhR10_"
      },
      "source": [
        "In my lecture, you learn that the closed form solution of linear regression using the normal equation formulation. Using the formula does not require any feature scaling, and should be straight forward to implement:\n",
        "\n",
        "$\n",
        "    \\mathbf{\\theta} = ({\\mathbf{X}^{T}\\mathbf{X}})^{-1}\\mathbf{X}^{T}\\mathbf{y}.\n",
        "$\n",
        "\n",
        "Note that you still need to add a column of 1's to the $\\mathbf{\n",
        "X}$ matrix to have an intercept term."
      ]
    },
    {
      "cell_type": "code",
      "execution_count": 99,
      "metadata": {
        "id": "X4t5jNtbR11B"
      },
      "outputs": [],
      "source": [
        "# Implement the normalEquation method of the MyLinearRegression Class before execute the code below:\n",
        "myNormalEquationModel = MyLinearRegression()\n",
        "myNormalEquationModel.fitUsingNormalEquation(insurance_prepared, y_train)"
      ]
    },
    {
      "cell_type": "markdown",
      "metadata": {
        "id": "m5el9T4eR11D"
      },
      "source": [
        "- - -\n",
        "## Task 5. COMPARE DIFFERENT IMPLEMENTATIONS"
      ]
    },
    {
      "cell_type": "markdown",
      "metadata": {
        "id": "ScvMKU-zR11D"
      },
      "source": [
        "You should be able to evaluate and compare your gradient descent as well as normal equation implementation of linear regression. In theory, they should be the same, or at least similar. For good measures, you must use the built-in library **Scholastic Gradient Descent (SGD)** as a third model for comparison. For each model, you must compute the RMSE on the **test set** as performance measure. The good news is that you can call library functions to compute these as shown below instead of writing your own code:\n",
        "\n",
        "* Which one yields the best performance measure for your dataset?\n",
        "* What is your assessment of the error? Good? Okay? Terrible?"
      ]
    },
    {
      "cell_type": "code",
      "execution_count": null,
      "metadata": {},
      "outputs": [],
      "source": [
        "X_test = full_pipeline.fit_transform(X_test)"
      ]
    },
    {
      "cell_type": "code",
      "execution_count": 107,
      "metadata": {
        "id": "wtvlmtyCR11E"
      },
      "outputs": [
        {
          "name": "stderr",
          "output_type": "stream",
          "text": [
            "c:\\Users\\l3n3c\\AppData\\Local\\Programs\\Python\\Python310\\lib\\site-packages\\sklearn\\utils\\validation.py:1339: DataConversionWarning: A column-vector y was passed when a 1d array was expected. Please change the shape of y to (n_samples, ), for example using ravel().\n",
            "  y = column_or_1d(y, warn=True)\n",
            "C:\\Users\\l3n3c\\AppData\\Local\\Temp\\ipykernel_25200\\3701974706.py:53: FutureWarning: Calling float on a single element Series is deprecated and will raise a TypeError in the future. Use float(ser.iloc[0]) instead\n",
            "  cost[iteration] = (1 / len(X_train)) * ((X_train.dot(self.theta) - y_train)**2).sum()\n"
          ]
        },
        {
          "name": "stdout",
          "output_type": "stream",
          "text": [
            "SGD: 5790.460684777339\n",
            "Gradient descent: 5845.924979105376\n",
            "Normal: 5795.332533018758\n"
          ]
        }
      ],
      "source": [
        "from sklearn.metrics import mean_squared_error\n",
        "\n",
        "\n",
        "# Use the built-in SGD Regressor model\n",
        "from sklearn.linear_model import SGDRegressor\n",
        "mySGDModel = SGDRegressor()\n",
        "mySGDModel.fit(insurance_prepared,y_train)\n",
        "y_predict = mySGDModel.predict(X_test)\n",
        "mse = mean_squared_error(y_test, y_predict)\n",
        "mySGDModel_rmse = np.sqrt(mse)\n",
        "print(\"SGD:\", mySGDModel_rmse)\n",
        "\n",
        "myGradientDescentModel.fitUsingGradientDescent(insurance_prepared, y_train)\n",
        "y_predict = myGradientDescentModel.predict(X_test)\n",
        "mse = mean_squared_error(y_test, y_predict)\n",
        "myGradientDescentModel_rmse = np.sqrt(mse)\n",
        "print(\"Gradient descent:\", myGradientDescentModel_rmse)\n",
        "\n",
        "\n",
        "myGradientDescentModel.fitUsingNormalEquation(insurance_prepared, y_train)\n",
        "y_predict = myGradientDescentModel.predict(X_test)\n",
        "mse = mean_squared_error(y_test, y_predict)\n",
        "myNormalEquationModel_rmse = np.sqrt(mse)\n",
        "print(\"Normal:\", myNormalEquationModel_rmse)\n",
        "\n",
        "\n"
      ]
    },
    {
      "cell_type": "markdown",
      "metadata": {
        "id": "vmaBPxD_R11G"
      },
      "source": [
        "- - -\n",
        "## Task 6. PRESENT YOUR SOLUTION"
      ]
    },
    {
      "cell_type": "markdown",
      "metadata": {
        "id": "zI7TNvZsR11H"
      },
      "source": [
        "Now that you need to write a short memo of one paragraph to be read by a non-technical audience (ie. your manager/boss). Focus on answering the following:\n",
        "\n",
        "* How can you pitch your solution to this project?\n",
        "* What did you learn so far about the problem?\n",
        "* Is there any insight moving forward to improve the solution."
      ]
    },
    {
      "cell_type": "code",
      "execution_count": null,
      "metadata": {
        "id": "rrv4waCfR11H"
      },
      "outputs": [],
      "source": [
        "# Your paragraph goes here for this section\n"
      ]
    },
    {
      "cell_type": "markdown",
      "metadata": {},
      "source": [
        "The gradient descent model that was created is able to predict the insurance charges with about a $5700 error based on the given attributes. Based on the plotted correlation, the age of the patient has a high correlation with the charges. Moving forward, this model could be improved by gathering more attributes, as well as more entries so that the model can be trained more accurately."
      ]
    },
    {
      "cell_type": "markdown",
      "metadata": {
        "id": "I1vTd45lR11J"
      },
      "source": [
        "- - -\n",
        "### NEED HELP?"
      ]
    },
    {
      "cell_type": "markdown",
      "metadata": {
        "id": "ionUS2eLR11K"
      },
      "source": [
        "In case you get stuck in any step in the process, you may find some useful information from:\n",
        "\n",
        " * Consult my [slides](https://docs.google.com/presentation/d/10D1he89peAWaFgjtZlHpUzvOOAie_vIFT95htKCKgc0/edit?usp=sharing) and/or the textbook\n",
        " * Talk to the TA, they are available and there to help you during [office hour](http://bit.ly/cs4774oh)\n",
        " * Come talk to me or email me <nn4pj@virginia.edu> with subject starting \"CS 4774 Assignment 1:...\".\n",
        "\n",
        "Best of luck and have fun!"
      ]
    }
  ],
  "metadata": {
    "colab": {
      "include_colab_link": true,
      "provenance": []
    },
    "kernelspec": {
      "display_name": "Python 3",
      "language": "python",
      "name": "python3"
    },
    "language_info": {
      "codemirror_mode": {
        "name": "ipython",
        "version": 3
      },
      "file_extension": ".py",
      "mimetype": "text/x-python",
      "name": "python",
      "nbconvert_exporter": "python",
      "pygments_lexer": "ipython3",
      "version": "3.10.6"
    }
  },
  "nbformat": 4,
  "nbformat_minor": 0
}
