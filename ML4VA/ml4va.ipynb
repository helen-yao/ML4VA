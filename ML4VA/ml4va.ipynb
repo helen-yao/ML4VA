{
 "cells": [
  {
   "cell_type": "markdown",
   "metadata": {},
   "source": [
    "ML4VA"
   ]
  },
  {
   "cell_type": "markdown",
   "metadata": {},
   "source": [
    "Helen Yao, Eva Butler, and Larissa Cybyk"
   ]
  },
  {
   "cell_type": "code",
   "execution_count": 56,
   "metadata": {},
   "outputs": [],
   "source": [
    "import pandas as pd\n",
    "import numpy as np"
   ]
  },
  {
   "cell_type": "markdown",
   "metadata": {},
   "source": [
    "Data Cleaning & Visualization"
   ]
  },
  {
   "cell_type": "markdown",
   "metadata": {},
   "source": [
    "loading/condensing crash data:"
   ]
  },
  {
   "cell_type": "code",
   "execution_count": 57,
   "metadata": {},
   "outputs": [],
   "source": [
    "import datetime\n",
    "try:\n",
    "    crash_data = pd.read_csv('./crash_data.csv', sep='\\t')\n",
    "except:\n",
    "\n",
    "    crash_data = pd.read_csv('./CrashData_test.csv')\n",
    "    # crash_data.head()\n",
    "\n",
    "    # crash_data.isnull().sum()\n",
    "\n",
    "    crash_data = crash_data[['RTE Name','Crash Date']]\n",
    "\n",
    "    # print(crash_data)\n",
    "\n",
    "    crash_data['Crash Date'] = pd.to_datetime(crash_data['Crash Date'].str.split(' ', expand=True)[0], format='%m/%d/%Y')\n",
    "\n",
    "\n",
    "    duplicate = crash_data.pivot_table(index = ['RTE Name', 'Crash Date'], aggfunc ='size')\n",
    "\n",
    "    crash_data['Total Crashes'] = crash_data.set_index(['RTE Name', 'Crash Date']).index.map(duplicate)\n",
    "\n",
    "    crash_data = crash_data.drop_duplicates()\n",
    "    print(crash_data)\n",
    "\n",
    "    # f = open(\"crash_data.csv\", \"a\")\n",
    "    crash_data.to_csv(\"crash_data.csv\", sep='\\t', encoding='utf-8')\n",
    "    # f.close()"
   ]
  },
  {
   "cell_type": "code",
   "execution_count": 58,
   "metadata": {},
   "outputs": [
    {
     "data": {
      "text/html": [
       "<div>\n",
       "<style scoped>\n",
       "    .dataframe tbody tr th:only-of-type {\n",
       "        vertical-align: middle;\n",
       "    }\n",
       "\n",
       "    .dataframe tbody tr th {\n",
       "        vertical-align: top;\n",
       "    }\n",
       "\n",
       "    .dataframe thead th {\n",
       "        text-align: right;\n",
       "    }\n",
       "</style>\n",
       "<table border=\"1\" class=\"dataframe\">\n",
       "  <thead>\n",
       "    <tr style=\"text-align: right;\">\n",
       "      <th></th>\n",
       "      <th>Unnamed: 0</th>\n",
       "      <th>RTE Name</th>\n",
       "      <th>Crash Date</th>\n",
       "      <th>Total Crashes</th>\n",
       "    </tr>\n",
       "  </thead>\n",
       "  <tbody>\n",
       "    <tr>\n",
       "      <th>0</th>\n",
       "      <td>0</td>\n",
       "      <td>R-VA   IS00095NB</td>\n",
       "      <td>2016-12-06</td>\n",
       "      <td>15</td>\n",
       "    </tr>\n",
       "    <tr>\n",
       "      <th>1</th>\n",
       "      <td>1</td>\n",
       "      <td>S-VA114NP WOODLAND RD</td>\n",
       "      <td>2016-01-26</td>\n",
       "      <td>1</td>\n",
       "    </tr>\n",
       "    <tr>\n",
       "      <th>2</th>\n",
       "      <td>2</td>\n",
       "      <td>R-VA066SC00640NB</td>\n",
       "      <td>2016-02-13</td>\n",
       "      <td>1</td>\n",
       "    </tr>\n",
       "    <tr>\n",
       "      <th>3</th>\n",
       "      <td>3</td>\n",
       "      <td>R-VA042SC00782SB</td>\n",
       "      <td>2016-03-26</td>\n",
       "      <td>1</td>\n",
       "    </tr>\n",
       "    <tr>\n",
       "      <th>4</th>\n",
       "      <td>4</td>\n",
       "      <td>R-VA   US00220NB</td>\n",
       "      <td>2016-07-18</td>\n",
       "      <td>1</td>\n",
       "    </tr>\n",
       "  </tbody>\n",
       "</table>\n",
       "</div>"
      ],
      "text/plain": [
       "   Unnamed: 0               RTE Name  Crash Date  Total Crashes\n",
       "0           0       R-VA   IS00095NB  2016-12-06             15\n",
       "1           1  S-VA114NP WOODLAND RD  2016-01-26              1\n",
       "2           2       R-VA066SC00640NB  2016-02-13              1\n",
       "3           3       R-VA042SC00782SB  2016-03-26              1\n",
       "4           4       R-VA   US00220NB  2016-07-18              1"
      ]
     },
     "execution_count": 58,
     "metadata": {},
     "output_type": "execute_result"
    }
   ],
   "source": [
    "crash_data.head()"
   ]
  },
  {
   "cell_type": "markdown",
   "metadata": {},
   "source": [
    "loading/cleaning traffic volume data:"
   ]
  },
  {
   "cell_type": "code",
   "execution_count": 59,
   "metadata": {},
   "outputs": [],
   "source": [
    "# load data\n",
    "\n",
    "traffic_volume = pd.read_csv('./VDOT_Traffic_Volume.csv')"
   ]
  },
  {
   "cell_type": "code",
   "execution_count": 60,
   "metadata": {},
   "outputs": [
    {
     "name": "stdout",
     "output_type": "stream",
     "text": [
      "(121679, 42)\n",
      "OBJECTID                             0\n",
      "LINKID                               0\n",
      "DATA_DATE                            0\n",
      "ROUTE_COMMON_NAME                    0\n",
      "ROUTE_NAME                           0\n",
      "HTRIS_ID                           745\n",
      "ROUTE_ALIAS                          0\n",
      "START_LABEL                          0\n",
      "END_LABEL                            0\n",
      "ADT                                  3\n",
      "ADT_QUALITY                          0\n",
      "PERCENT_4_TIRE                   94712\n",
      "PERCENT_BUS                      94712\n",
      "PERCENT_TRUCK_2_AXLE             94712\n",
      "PERCENT_TRUCK_3_AXLE             94712\n",
      "PERCENT_TRUCK_1_TRAIL            94712\n",
      "PERCENT_TRUCK_2_TRAIL            94712\n",
      "CLASS_QUALITY_CODE                   0\n",
      "K_FACTOR                         92351\n",
      "K_FACTOR_QUALITY_CODE               63\n",
      "DIRECTION_FACTOR                 92371\n",
      "AAWDT                            91950\n",
      "AAWDT_QUALITY_CODE                   6\n",
      "LOC_COMP_DIRECTIONALITY_NAME       196\n",
      "ROUTE_FROM_MEASURE                   0\n",
      "FROM_JURISDICTION                   19\n",
      "ROUTE_TO_MEASURE                     0\n",
      "TO_JURISDICTION                     13\n",
      "PEAK_SINGLE_UNIT_TRUCK           95865\n",
      "PEAK_COMBINATION_TRUCK           95865\n",
      "EVENT_SOURCE_ID                      0\n",
      "EVENT_LOCATION_ID                    0\n",
      "EVENT_COMPONENT_ID                   0\n",
      "MAXIMUMSCALEDENOMINATOR              9\n",
      "ROUTE_COMMON_NAME_ADT                0\n",
      "FROM_DISTRICT                      431\n",
      "TO_DISTRICT                        544\n",
      "RTE_TYPE_CD                          0\n",
      "RTE_ID                               0\n",
      "DATA_CUSTODIAN_EMAIL            121679\n",
      "METADATA_URL                    121679\n",
      "Shape__Length                      139\n",
      "dtype: int64\n"
     ]
    }
   ],
   "source": [
    "traffic_volume.head()\n",
    "\n",
    "traffic_volume.columns\n",
    "print(traffic_volume.shape)\n",
    "nulls = traffic_volume.isnull().sum()\n",
    "print(nulls)"
   ]
  },
  {
   "cell_type": "code",
   "execution_count": 61,
   "metadata": {},
   "outputs": [
    {
     "name": "stdout",
     "output_type": "stream",
     "text": [
      "['PERCENT_4_TIRE', 'PERCENT_BUS', 'PERCENT_TRUCK_2_AXLE', 'PERCENT_TRUCK_3_AXLE', 'PERCENT_TRUCK_1_TRAIL', 'PERCENT_TRUCK_2_TRAIL', 'K_FACTOR', 'DIRECTION_FACTOR', 'AAWDT', 'PEAK_SINGLE_UNIT_TRUCK', 'PEAK_COMBINATION_TRUCK', 'DATA_CUSTODIAN_EMAIL', 'METADATA_URL']\n"
     ]
    }
   ],
   "source": [
    "# dropping null columns / columns with a lot of missing data\n",
    "\n",
    "to_drop = []\n",
    "for col in traffic_volume.columns:\n",
    "    if nulls[col] > 90000:\n",
    "        to_drop.append(col)\n",
    "print(to_drop)\n",
    "traffic_volume = traffic_volume.drop(columns=to_drop)"
   ]
  },
  {
   "cell_type": "code",
   "execution_count": 62,
   "metadata": {},
   "outputs": [
    {
     "data": {
      "text/plain": [
       "OBJECTID                          0\n",
       "LINKID                            0\n",
       "DATA_DATE                         0\n",
       "ROUTE_COMMON_NAME                 0\n",
       "ROUTE_NAME                        0\n",
       "HTRIS_ID                        745\n",
       "ROUTE_ALIAS                       0\n",
       "START_LABEL                       0\n",
       "END_LABEL                         0\n",
       "ADT                               3\n",
       "ADT_QUALITY                       0\n",
       "CLASS_QUALITY_CODE                0\n",
       "K_FACTOR_QUALITY_CODE            63\n",
       "AAWDT_QUALITY_CODE                6\n",
       "LOC_COMP_DIRECTIONALITY_NAME    196\n",
       "ROUTE_FROM_MEASURE                0\n",
       "FROM_JURISDICTION                19\n",
       "ROUTE_TO_MEASURE                  0\n",
       "TO_JURISDICTION                  13\n",
       "EVENT_SOURCE_ID                   0\n",
       "EVENT_LOCATION_ID                 0\n",
       "EVENT_COMPONENT_ID                0\n",
       "MAXIMUMSCALEDENOMINATOR           9\n",
       "ROUTE_COMMON_NAME_ADT             0\n",
       "FROM_DISTRICT                   431\n",
       "TO_DISTRICT                     544\n",
       "RTE_TYPE_CD                       0\n",
       "RTE_ID                            0\n",
       "Shape__Length                   139\n",
       "dtype: int64"
      ]
     },
     "execution_count": 62,
     "metadata": {},
     "output_type": "execute_result"
    }
   ],
   "source": [
    "traffic_volume.isnull().sum()"
   ]
  },
  {
   "cell_type": "code",
   "execution_count": 63,
   "metadata": {},
   "outputs": [],
   "source": [
    "# adding day of week feature\n",
    "import re\n",
    "import calendar\n",
    "\n",
    "def convert_date(date, delim='/'):\n",
    "    stripped = date.split(delim)\n",
    "    try:\n",
    "        given_date = datetime.datetime(int(stripped[2][:4]), int(stripped[0]), int(stripped[1]))\n",
    "        \n",
    "    except:\n",
    "        given_date = datetime.datetime(int(stripped[0]), int(stripped[1]), int(stripped[2][:2]))\n",
    "    return given_date\n",
    "        \n",
    "    \n",
    "def day_of_week(given_date):\n",
    "    day_num = given_date.weekday()\n",
    "    day = 'sunday'\n",
    "    if day_num == 0:\n",
    "        day = 'monday'\n",
    "    elif day_num == 1:\n",
    "        day = 'tuesday'\n",
    "    elif day_num == 2:\n",
    "        day = 'wednesday'\n",
    "    elif day_num == 3:\n",
    "        day = 'thursday'\n",
    "    elif day_num == 4:\n",
    "        day = 'friday'\n",
    "    elif day_num == 5:\n",
    "        day = 'saturday'\n",
    "    \n",
    "    return day\n",
    "\n",
    "def get_day(given_date):\n",
    "    return given_date.day\n",
    "\n",
    "def get_month(given_date):\n",
    "    return given_date.month\n",
    "\n",
    "def get_year(given_date):\n",
    "    return given_date.year"
   ]
  },
  {
   "cell_type": "markdown",
   "metadata": {},
   "source": [
    "** going to drop data_date once datasets are merged"
   ]
  },
  {
   "cell_type": "code",
   "execution_count": 64,
   "metadata": {},
   "outputs": [],
   "source": [
    "traffic_volume['DATA_DATE'] = traffic_volume['DATA_DATE'].apply(convert_date) #converting data date into datetime"
   ]
  },
  {
   "cell_type": "code",
   "execution_count": 65,
   "metadata": {},
   "outputs": [],
   "source": [
    "traffic_volume['DAY_WEEK'] = traffic_volume['DATA_DATE'].apply(day_of_week)\n",
    "traffic_volume['DAY'] = traffic_volume['DATA_DATE'].apply(get_day)\n",
    "traffic_volume['MONTH'] = traffic_volume['DATA_DATE'].apply(get_month)\n",
    "traffic_volume['YEAR'] = traffic_volume['DATA_DATE'].apply(get_year)"
   ]
  },
  {
   "cell_type": "code",
   "execution_count": 66,
   "metadata": {},
   "outputs": [
    {
     "name": "stdout",
     "output_type": "stream",
     "text": [
      "<class 'pandas.core.frame.DataFrame'>\n",
      "RangeIndex: 121679 entries, 0 to 121678\n",
      "Data columns (total 33 columns):\n",
      " #   Column                        Non-Null Count   Dtype         \n",
      "---  ------                        --------------   -----         \n",
      " 0   OBJECTID                      121679 non-null  int64         \n",
      " 1   LINKID                        121679 non-null  int64         \n",
      " 2   DATA_DATE                     121679 non-null  datetime64[ns]\n",
      " 3   ROUTE_COMMON_NAME             121679 non-null  object        \n",
      " 4   ROUTE_NAME                    121679 non-null  object        \n",
      " 5   HTRIS_ID                      120934 non-null  object        \n",
      " 6   ROUTE_ALIAS                   121679 non-null  object        \n",
      " 7   START_LABEL                   121679 non-null  object        \n",
      " 8   END_LABEL                     121679 non-null  object        \n",
      " 9   ADT                           121676 non-null  float64       \n",
      " 10  ADT_QUALITY                   121679 non-null  object        \n",
      " 11  CLASS_QUALITY_CODE            121679 non-null  object        \n",
      " 12  K_FACTOR_QUALITY_CODE         121616 non-null  object        \n",
      " 13  AAWDT_QUALITY_CODE            121673 non-null  object        \n",
      " 14  LOC_COMP_DIRECTIONALITY_NAME  121483 non-null  object        \n",
      " 15  ROUTE_FROM_MEASURE            121679 non-null  float64       \n",
      " 16  FROM_JURISDICTION             121660 non-null  object        \n",
      " 17  ROUTE_TO_MEASURE              121679 non-null  float64       \n",
      " 18  TO_JURISDICTION               121666 non-null  object        \n",
      " 19  EVENT_SOURCE_ID               121679 non-null  int64         \n",
      " 20  EVENT_LOCATION_ID             121679 non-null  int64         \n",
      " 21  EVENT_COMPONENT_ID            121679 non-null  int64         \n",
      " 22  MAXIMUMSCALEDENOMINATOR       121670 non-null  float64       \n",
      " 23  ROUTE_COMMON_NAME_ADT         121679 non-null  object        \n",
      " 24  FROM_DISTRICT                 121248 non-null  object        \n",
      " 25  TO_DISTRICT                   121135 non-null  object        \n",
      " 26  RTE_TYPE_CD                   121679 non-null  object        \n",
      " 27  RTE_ID                        121679 non-null  int64         \n",
      " 28  Shape__Length                 121540 non-null  float64       \n",
      " 29  DAY_WEEK                      121679 non-null  object        \n",
      " 30  DAY                           121679 non-null  int64         \n",
      " 31  MONTH                         121679 non-null  int64         \n",
      " 32  YEAR                          121679 non-null  int64         \n",
      "dtypes: datetime64[ns](1), float64(5), int64(9), object(18)\n",
      "memory usage: 30.6+ MB\n"
     ]
    }
   ],
   "source": [
    "traffic_volume.info()"
   ]
  },
  {
   "cell_type": "markdown",
   "metadata": {},
   "source": [
    "merge datasets BEFORE dropping"
   ]
  },
  {
   "cell_type": "code",
   "execution_count": 67,
   "metadata": {},
   "outputs": [
    {
     "name": "stdout",
     "output_type": "stream",
     "text": [
      "<class 'pandas.core.frame.DataFrame'>\n",
      "RangeIndex: 778666 entries, 0 to 778665\n",
      "Data columns (total 4 columns):\n",
      " #   Column         Non-Null Count   Dtype \n",
      "---  ------         --------------   ----- \n",
      " 0   Unnamed: 0     778666 non-null  int64 \n",
      " 1   RTE Name       778666 non-null  object\n",
      " 2   Crash Date     778666 non-null  object\n",
      " 3   Total Crashes  778666 non-null  int64 \n",
      "dtypes: int64(2), object(2)\n",
      "memory usage: 23.8+ MB\n"
     ]
    }
   ],
   "source": [
    "crash_data.info()"
   ]
  },
  {
   "cell_type": "code",
   "execution_count": 68,
   "metadata": {},
   "outputs": [
    {
     "data": {
      "text/plain": [
       "str"
      ]
     },
     "execution_count": 68,
     "metadata": {},
     "output_type": "execute_result"
    }
   ],
   "source": [
    "type(crash_data['Crash Date'].unique()[0])"
   ]
  },
  {
   "cell_type": "code",
   "execution_count": 69,
   "metadata": {},
   "outputs": [],
   "source": [
    "def convert_crash_date(date):\n",
    "    if type(date) == pd._libs.tslibs.timestamps.Timestamp:\n",
    "        return date\n",
    "    stripped = date.split('-')\n",
    "    try:\n",
    "        given_date = datetime.datetime(int(stripped[2][:4]), int(stripped[0]), int(stripped[1]))\n",
    "        \n",
    "    except:\n",
    "        given_date = datetime.datetime(int(stripped[0]), int(stripped[1]), int(stripped[2][:2]))\n",
    "    return given_date"
   ]
  },
  {
   "cell_type": "code",
   "execution_count": 70,
   "metadata": {},
   "outputs": [],
   "source": [
    "crash_data['Crash Date'] = crash_data['Crash Date'].apply(convert_crash_date)"
   ]
  },
  {
   "cell_type": "code",
   "execution_count": 71,
   "metadata": {},
   "outputs": [
    {
     "data": {
      "text/html": [
       "<div>\n",
       "<style scoped>\n",
       "    .dataframe tbody tr th:only-of-type {\n",
       "        vertical-align: middle;\n",
       "    }\n",
       "\n",
       "    .dataframe tbody tr th {\n",
       "        vertical-align: top;\n",
       "    }\n",
       "\n",
       "    .dataframe thead th {\n",
       "        text-align: right;\n",
       "    }\n",
       "</style>\n",
       "<table border=\"1\" class=\"dataframe\">\n",
       "  <thead>\n",
       "    <tr style=\"text-align: right;\">\n",
       "      <th></th>\n",
       "      <th>Unnamed: 0</th>\n",
       "      <th>RTE Name</th>\n",
       "      <th>Crash Date</th>\n",
       "      <th>Total Crashes</th>\n",
       "    </tr>\n",
       "  </thead>\n",
       "  <tbody>\n",
       "    <tr>\n",
       "      <th>0</th>\n",
       "      <td>0</td>\n",
       "      <td>R-VA   IS00095NB</td>\n",
       "      <td>2016-12-06</td>\n",
       "      <td>15</td>\n",
       "    </tr>\n",
       "    <tr>\n",
       "      <th>1</th>\n",
       "      <td>1</td>\n",
       "      <td>S-VA114NP WOODLAND RD</td>\n",
       "      <td>2016-01-26</td>\n",
       "      <td>1</td>\n",
       "    </tr>\n",
       "    <tr>\n",
       "      <th>2</th>\n",
       "      <td>2</td>\n",
       "      <td>R-VA066SC00640NB</td>\n",
       "      <td>2016-02-13</td>\n",
       "      <td>1</td>\n",
       "    </tr>\n",
       "    <tr>\n",
       "      <th>3</th>\n",
       "      <td>3</td>\n",
       "      <td>R-VA042SC00782SB</td>\n",
       "      <td>2016-03-26</td>\n",
       "      <td>1</td>\n",
       "    </tr>\n",
       "    <tr>\n",
       "      <th>4</th>\n",
       "      <td>4</td>\n",
       "      <td>R-VA   US00220NB</td>\n",
       "      <td>2016-07-18</td>\n",
       "      <td>1</td>\n",
       "    </tr>\n",
       "  </tbody>\n",
       "</table>\n",
       "</div>"
      ],
      "text/plain": [
       "   Unnamed: 0               RTE Name Crash Date  Total Crashes\n",
       "0           0       R-VA   IS00095NB 2016-12-06             15\n",
       "1           1  S-VA114NP WOODLAND RD 2016-01-26              1\n",
       "2           2       R-VA066SC00640NB 2016-02-13              1\n",
       "3           3       R-VA042SC00782SB 2016-03-26              1\n",
       "4           4       R-VA   US00220NB 2016-07-18              1"
      ]
     },
     "execution_count": 71,
     "metadata": {},
     "output_type": "execute_result"
    }
   ],
   "source": [
    "crash_data.head()"
   ]
  },
  {
   "cell_type": "code",
   "execution_count": 72,
   "metadata": {},
   "outputs": [],
   "source": [
    "# merging\n",
    "new_df = pd.merge(\n",
    "    left=traffic_volume, \n",
    "    right=crash_data,\n",
    "    how='left',\n",
    "    left_on=['DATA_DATE', 'ROUTE_NAME'],\n",
    "    right_on=['Crash Date', 'RTE Name']\n",
    ")"
   ]
  },
  {
   "cell_type": "code",
   "execution_count": 73,
   "metadata": {},
   "outputs": [
    {
     "data": {
      "text/plain": [
       "2902"
      ]
     },
     "execution_count": 73,
     "metadata": {},
     "output_type": "execute_result"
    }
   ],
   "source": [
    "len(traffic_volume['DATA_DATE'].unique()) #2902 dates in traffic volume data"
   ]
  },
  {
   "cell_type": "code",
   "execution_count": 74,
   "metadata": {},
   "outputs": [
    {
     "data": {
      "text/plain": [
       "3166"
      ]
     },
     "execution_count": 74,
     "metadata": {},
     "output_type": "execute_result"
    }
   ],
   "source": [
    "len(crash_data['Crash Date'].unique()) #3166 dates in traffic volume data"
   ]
  },
  {
   "cell_type": "code",
   "execution_count": 75,
   "metadata": {},
   "outputs": [
    {
     "data": {
      "text/plain": [
       "1266"
      ]
     },
     "execution_count": 75,
     "metadata": {},
     "output_type": "execute_result"
    }
   ],
   "source": [
    "len(set(traffic_volume['DATA_DATE']).intersection(crash_data['Crash Date'])) # only 1266 dates that overlap"
   ]
  },
  {
   "cell_type": "code",
   "execution_count": 76,
   "metadata": {},
   "outputs": [
    {
     "data": {
      "text/plain": [
       "64941"
      ]
     },
     "execution_count": 76,
     "metadata": {},
     "output_type": "execute_result"
    }
   ],
   "source": [
    "len(traffic_volume['ROUTE_NAME'].unique())"
   ]
  },
  {
   "cell_type": "code",
   "execution_count": 77,
   "metadata": {},
   "outputs": [
    {
     "data": {
      "text/plain": [
       "59716"
      ]
     },
     "execution_count": 77,
     "metadata": {},
     "output_type": "execute_result"
    }
   ],
   "source": [
    "len(crash_data['RTE Name'].unique())"
   ]
  },
  {
   "cell_type": "code",
   "execution_count": 78,
   "metadata": {},
   "outputs": [
    {
     "data": {
      "text/plain": [
       "18766"
      ]
     },
     "execution_count": 78,
     "metadata": {},
     "output_type": "execute_result"
    }
   ],
   "source": [
    "len(set(traffic_volume['ROUTE_NAME']).intersection(crash_data['RTE Name'])) # 18766 routes overlap"
   ]
  },
  {
   "cell_type": "code",
   "execution_count": 79,
   "metadata": {},
   "outputs": [
    {
     "data": {
      "text/plain": [
       "(121679, 37)"
      ]
     },
     "execution_count": 79,
     "metadata": {},
     "output_type": "execute_result"
    }
   ],
   "source": [
    "new_df.shape"
   ]
  },
  {
   "cell_type": "code",
   "execution_count": 80,
   "metadata": {},
   "outputs": [
    {
     "data": {
      "text/plain": [
       "OBJECTID                             0\n",
       "LINKID                               0\n",
       "DATA_DATE                            0\n",
       "ROUTE_COMMON_NAME                    0\n",
       "ROUTE_NAME                           0\n",
       "HTRIS_ID                           745\n",
       "ROUTE_ALIAS                          0\n",
       "START_LABEL                          0\n",
       "END_LABEL                            0\n",
       "ADT                                  3\n",
       "ADT_QUALITY                          0\n",
       "CLASS_QUALITY_CODE                   0\n",
       "K_FACTOR_QUALITY_CODE               63\n",
       "AAWDT_QUALITY_CODE                   6\n",
       "LOC_COMP_DIRECTIONALITY_NAME       196\n",
       "ROUTE_FROM_MEASURE                   0\n",
       "FROM_JURISDICTION                   19\n",
       "ROUTE_TO_MEASURE                     0\n",
       "TO_JURISDICTION                     13\n",
       "EVENT_SOURCE_ID                      0\n",
       "EVENT_LOCATION_ID                    0\n",
       "EVENT_COMPONENT_ID                   0\n",
       "MAXIMUMSCALEDENOMINATOR              9\n",
       "ROUTE_COMMON_NAME_ADT                0\n",
       "FROM_DISTRICT                      431\n",
       "TO_DISTRICT                        544\n",
       "RTE_TYPE_CD                          0\n",
       "RTE_ID                               0\n",
       "Shape__Length                      139\n",
       "DAY_WEEK                             0\n",
       "DAY                                  0\n",
       "MONTH                                0\n",
       "YEAR                                 0\n",
       "Unnamed: 0                      116822\n",
       "RTE Name                        116822\n",
       "Crash Date                      116822\n",
       "Total Crashes                   116822\n",
       "dtype: int64"
      ]
     },
     "execution_count": 80,
     "metadata": {},
     "output_type": "execute_result"
    }
   ],
   "source": [
    "new_df.isnull().sum()"
   ]
  },
  {
   "cell_type": "markdown",
   "metadata": {},
   "source": [
    "dropping route identifiers, addresses, etc and double columns from merge"
   ]
  },
  {
   "cell_type": "code",
   "execution_count": 81,
   "metadata": {},
   "outputs": [],
   "source": [
    "to_drop = ['ROUTE_COMMON_NAME', 'ROUTE_NAME', 'ROUTE_ALIAS', 'END_LABEL', 'START_LABEL', 'ADT_QUALITY', 'CLASS_QUALITY_CODE', 'K_FACTOR_QUALITY_CODE', 'AAWDT_QUALITY_CODE', 'MAXIMUMSCALEDENOMINATOR', 'ROUTE_COMMON_NAME_ADT','HTRIS_ID', 'Crash Date', 'RTE Name', 'Unnamed: 0', 'DATA_DATE', 'LINKID', 'OBJECTID']"
   ]
  },
  {
   "cell_type": "code",
   "execution_count": 82,
   "metadata": {},
   "outputs": [],
   "source": [
    "combined_df = new_df.drop(columns=to_drop)"
   ]
  },
  {
   "cell_type": "code",
   "execution_count": 83,
   "metadata": {},
   "outputs": [
    {
     "data": {
      "text/html": [
       "<div>\n",
       "<style scoped>\n",
       "    .dataframe tbody tr th:only-of-type {\n",
       "        vertical-align: middle;\n",
       "    }\n",
       "\n",
       "    .dataframe tbody tr th {\n",
       "        vertical-align: top;\n",
       "    }\n",
       "\n",
       "    .dataframe thead th {\n",
       "        text-align: right;\n",
       "    }\n",
       "</style>\n",
       "<table border=\"1\" class=\"dataframe\">\n",
       "  <thead>\n",
       "    <tr style=\"text-align: right;\">\n",
       "      <th></th>\n",
       "      <th>ADT</th>\n",
       "      <th>LOC_COMP_DIRECTIONALITY_NAME</th>\n",
       "      <th>ROUTE_FROM_MEASURE</th>\n",
       "      <th>FROM_JURISDICTION</th>\n",
       "      <th>ROUTE_TO_MEASURE</th>\n",
       "      <th>TO_JURISDICTION</th>\n",
       "      <th>EVENT_SOURCE_ID</th>\n",
       "      <th>EVENT_LOCATION_ID</th>\n",
       "      <th>EVENT_COMPONENT_ID</th>\n",
       "      <th>FROM_DISTRICT</th>\n",
       "      <th>TO_DISTRICT</th>\n",
       "      <th>RTE_TYPE_CD</th>\n",
       "      <th>RTE_ID</th>\n",
       "      <th>Shape__Length</th>\n",
       "      <th>DAY_WEEK</th>\n",
       "      <th>DAY</th>\n",
       "      <th>MONTH</th>\n",
       "      <th>YEAR</th>\n",
       "      <th>Total Crashes</th>\n",
       "    </tr>\n",
       "  </thead>\n",
       "  <tbody>\n",
       "    <tr>\n",
       "      <th>0</th>\n",
       "      <td>490.0</td>\n",
       "      <td>Bidirectional</td>\n",
       "      <td>0.000</td>\n",
       "      <td>Frederick County</td>\n",
       "      <td>0.24</td>\n",
       "      <td>Frederick County</td>\n",
       "      <td>795997</td>\n",
       "      <td>1</td>\n",
       "      <td>1</td>\n",
       "      <td>Staunton</td>\n",
       "      <td>Staunton</td>\n",
       "      <td>SC</td>\n",
       "      <td>2532756</td>\n",
       "      <td>478.381712</td>\n",
       "      <td>tuesday</td>\n",
       "      <td>7</td>\n",
       "      <td>6</td>\n",
       "      <td>2011</td>\n",
       "      <td>NaN</td>\n",
       "    </tr>\n",
       "    <tr>\n",
       "      <th>1</th>\n",
       "      <td>10.0</td>\n",
       "      <td>Bidirectional</td>\n",
       "      <td>0.620</td>\n",
       "      <td>Campbell County</td>\n",
       "      <td>0.64</td>\n",
       "      <td>Campbell County</td>\n",
       "      <td>709217</td>\n",
       "      <td>1</td>\n",
       "      <td>1</td>\n",
       "      <td>Lynchburg</td>\n",
       "      <td>Lynchburg</td>\n",
       "      <td>SC</td>\n",
       "      <td>1733670</td>\n",
       "      <td>47.494224</td>\n",
       "      <td>tuesday</td>\n",
       "      <td>10</td>\n",
       "      <td>12</td>\n",
       "      <td>2019</td>\n",
       "      <td>NaN</td>\n",
       "    </tr>\n",
       "    <tr>\n",
       "      <th>2</th>\n",
       "      <td>150.0</td>\n",
       "      <td>Bidirectional</td>\n",
       "      <td>3.180</td>\n",
       "      <td>Dickenson County</td>\n",
       "      <td>7.55</td>\n",
       "      <td>Dickenson County</td>\n",
       "      <td>720637</td>\n",
       "      <td>1</td>\n",
       "      <td>1</td>\n",
       "      <td>Bristol</td>\n",
       "      <td>Bristol</td>\n",
       "      <td>SC</td>\n",
       "      <td>1857885</td>\n",
       "      <td>8693.982351</td>\n",
       "      <td>monday</td>\n",
       "      <td>29</td>\n",
       "      <td>11</td>\n",
       "      <td>2021</td>\n",
       "      <td>NaN</td>\n",
       "    </tr>\n",
       "    <tr>\n",
       "      <th>3</th>\n",
       "      <td>47.0</td>\n",
       "      <td>Bidirectional</td>\n",
       "      <td>2.000</td>\n",
       "      <td>Nelson County</td>\n",
       "      <td>5.40</td>\n",
       "      <td>Nelson County</td>\n",
       "      <td>755648</td>\n",
       "      <td>1</td>\n",
       "      <td>1</td>\n",
       "      <td>Lynchburg</td>\n",
       "      <td>Lynchburg</td>\n",
       "      <td>SC</td>\n",
       "      <td>2111709</td>\n",
       "      <td>6516.476138</td>\n",
       "      <td>thursday</td>\n",
       "      <td>30</td>\n",
       "      <td>7</td>\n",
       "      <td>2020</td>\n",
       "      <td>NaN</td>\n",
       "    </tr>\n",
       "    <tr>\n",
       "      <th>4</th>\n",
       "      <td>30.0</td>\n",
       "      <td>Bidirectional</td>\n",
       "      <td>2.031</td>\n",
       "      <td>Washington County</td>\n",
       "      <td>2.08</td>\n",
       "      <td>Washington County</td>\n",
       "      <td>776797</td>\n",
       "      <td>1</td>\n",
       "      <td>1</td>\n",
       "      <td>Bristol</td>\n",
       "      <td>Bristol</td>\n",
       "      <td>SC</td>\n",
       "      <td>1594318</td>\n",
       "      <td>100.504177</td>\n",
       "      <td>friday</td>\n",
       "      <td>7</td>\n",
       "      <td>7</td>\n",
       "      <td>2017</td>\n",
       "      <td>NaN</td>\n",
       "    </tr>\n",
       "  </tbody>\n",
       "</table>\n",
       "</div>"
      ],
      "text/plain": [
       "     ADT LOC_COMP_DIRECTIONALITY_NAME  ROUTE_FROM_MEASURE  FROM_JURISDICTION  \\\n",
       "0  490.0                Bidirectional               0.000   Frederick County   \n",
       "1   10.0                Bidirectional               0.620    Campbell County   \n",
       "2  150.0                Bidirectional               3.180   Dickenson County   \n",
       "3   47.0                Bidirectional               2.000      Nelson County   \n",
       "4   30.0                Bidirectional               2.031  Washington County   \n",
       "\n",
       "   ROUTE_TO_MEASURE    TO_JURISDICTION  EVENT_SOURCE_ID  EVENT_LOCATION_ID  \\\n",
       "0              0.24   Frederick County           795997                  1   \n",
       "1              0.64    Campbell County           709217                  1   \n",
       "2              7.55   Dickenson County           720637                  1   \n",
       "3              5.40      Nelson County           755648                  1   \n",
       "4              2.08  Washington County           776797                  1   \n",
       "\n",
       "   EVENT_COMPONENT_ID FROM_DISTRICT TO_DISTRICT RTE_TYPE_CD   RTE_ID  \\\n",
       "0                   1      Staunton    Staunton          SC  2532756   \n",
       "1                   1     Lynchburg   Lynchburg          SC  1733670   \n",
       "2                   1       Bristol     Bristol          SC  1857885   \n",
       "3                   1     Lynchburg   Lynchburg          SC  2111709   \n",
       "4                   1       Bristol     Bristol          SC  1594318   \n",
       "\n",
       "   Shape__Length  DAY_WEEK  DAY  MONTH  YEAR  Total Crashes  \n",
       "0     478.381712   tuesday    7      6  2011            NaN  \n",
       "1      47.494224   tuesday   10     12  2019            NaN  \n",
       "2    8693.982351    monday   29     11  2021            NaN  \n",
       "3    6516.476138  thursday   30      7  2020            NaN  \n",
       "4     100.504177    friday    7      7  2017            NaN  "
      ]
     },
     "execution_count": 83,
     "metadata": {},
     "output_type": "execute_result"
    }
   ],
   "source": [
    "combined_df.head()"
   ]
  },
  {
   "cell_type": "code",
   "execution_count": 84,
   "metadata": {},
   "outputs": [
    {
     "name": "stdout",
     "output_type": "stream",
     "text": [
      "<class 'pandas.core.frame.DataFrame'>\n",
      "RangeIndex: 121679 entries, 0 to 121678\n",
      "Data columns (total 19 columns):\n",
      " #   Column                        Non-Null Count   Dtype  \n",
      "---  ------                        --------------   -----  \n",
      " 0   ADT                           121676 non-null  float64\n",
      " 1   LOC_COMP_DIRECTIONALITY_NAME  121483 non-null  object \n",
      " 2   ROUTE_FROM_MEASURE            121679 non-null  float64\n",
      " 3   FROM_JURISDICTION             121660 non-null  object \n",
      " 4   ROUTE_TO_MEASURE              121679 non-null  float64\n",
      " 5   TO_JURISDICTION               121666 non-null  object \n",
      " 6   EVENT_SOURCE_ID               121679 non-null  int64  \n",
      " 7   EVENT_LOCATION_ID             121679 non-null  int64  \n",
      " 8   EVENT_COMPONENT_ID            121679 non-null  int64  \n",
      " 9   FROM_DISTRICT                 121248 non-null  object \n",
      " 10  TO_DISTRICT                   121135 non-null  object \n",
      " 11  RTE_TYPE_CD                   121679 non-null  object \n",
      " 12  RTE_ID                        121679 non-null  int64  \n",
      " 13  Shape__Length                 121540 non-null  float64\n",
      " 14  DAY_WEEK                      121679 non-null  object \n",
      " 15  DAY                           121679 non-null  int64  \n",
      " 16  MONTH                         121679 non-null  int64  \n",
      " 17  YEAR                          121679 non-null  int64  \n",
      " 18  Total Crashes                 4857 non-null    float64\n",
      "dtypes: float64(5), int64(7), object(7)\n",
      "memory usage: 17.6+ MB\n"
     ]
    }
   ],
   "source": [
    "combined_df.info()"
   ]
  },
  {
   "cell_type": "code",
   "execution_count": 85,
   "metadata": {},
   "outputs": [
    {
     "name": "stdout",
     "output_type": "stream",
     "text": [
      "LOC_COMP_DIRECTIONALITY_NAME 4\n",
      "FROM_JURISDICTION 185\n",
      "TO_JURISDICTION 185\n",
      "FROM_DISTRICT 10\n",
      "TO_DISTRICT 10\n",
      "RTE_TYPE_CD 8\n",
      "DAY_WEEK 7\n"
     ]
    }
   ],
   "source": [
    "for feature in combined_df.select_dtypes(\"object\"):\n",
    "    print(feature, len(combined_df[feature].unique()))"
   ]
  },
  {
   "cell_type": "markdown",
   "metadata": {},
   "source": [
    "Final combined dataframe:"
   ]
  },
  {
   "cell_type": "code",
   "execution_count": 86,
   "metadata": {},
   "outputs": [],
   "source": [
    "combined_df['Total Crashes'] = combined_df['Total Crashes'].fillna(0)"
   ]
  },
  {
   "cell_type": "code",
   "execution_count": 87,
   "metadata": {},
   "outputs": [
    {
     "data": {
      "text/html": [
       "<div>\n",
       "<style scoped>\n",
       "    .dataframe tbody tr th:only-of-type {\n",
       "        vertical-align: middle;\n",
       "    }\n",
       "\n",
       "    .dataframe tbody tr th {\n",
       "        vertical-align: top;\n",
       "    }\n",
       "\n",
       "    .dataframe thead th {\n",
       "        text-align: right;\n",
       "    }\n",
       "</style>\n",
       "<table border=\"1\" class=\"dataframe\">\n",
       "  <thead>\n",
       "    <tr style=\"text-align: right;\">\n",
       "      <th></th>\n",
       "      <th>ADT</th>\n",
       "      <th>LOC_COMP_DIRECTIONALITY_NAME</th>\n",
       "      <th>ROUTE_FROM_MEASURE</th>\n",
       "      <th>FROM_JURISDICTION</th>\n",
       "      <th>ROUTE_TO_MEASURE</th>\n",
       "      <th>TO_JURISDICTION</th>\n",
       "      <th>EVENT_SOURCE_ID</th>\n",
       "      <th>EVENT_LOCATION_ID</th>\n",
       "      <th>EVENT_COMPONENT_ID</th>\n",
       "      <th>FROM_DISTRICT</th>\n",
       "      <th>TO_DISTRICT</th>\n",
       "      <th>RTE_TYPE_CD</th>\n",
       "      <th>RTE_ID</th>\n",
       "      <th>Shape__Length</th>\n",
       "      <th>DAY_WEEK</th>\n",
       "      <th>DAY</th>\n",
       "      <th>MONTH</th>\n",
       "      <th>YEAR</th>\n",
       "      <th>Total Crashes</th>\n",
       "    </tr>\n",
       "  </thead>\n",
       "  <tbody>\n",
       "    <tr>\n",
       "      <th>0</th>\n",
       "      <td>490.0</td>\n",
       "      <td>Bidirectional</td>\n",
       "      <td>0.000</td>\n",
       "      <td>Frederick County</td>\n",
       "      <td>0.24</td>\n",
       "      <td>Frederick County</td>\n",
       "      <td>795997</td>\n",
       "      <td>1</td>\n",
       "      <td>1</td>\n",
       "      <td>Staunton</td>\n",
       "      <td>Staunton</td>\n",
       "      <td>SC</td>\n",
       "      <td>2532756</td>\n",
       "      <td>478.381712</td>\n",
       "      <td>tuesday</td>\n",
       "      <td>7</td>\n",
       "      <td>6</td>\n",
       "      <td>2011</td>\n",
       "      <td>0.0</td>\n",
       "    </tr>\n",
       "    <tr>\n",
       "      <th>1</th>\n",
       "      <td>10.0</td>\n",
       "      <td>Bidirectional</td>\n",
       "      <td>0.620</td>\n",
       "      <td>Campbell County</td>\n",
       "      <td>0.64</td>\n",
       "      <td>Campbell County</td>\n",
       "      <td>709217</td>\n",
       "      <td>1</td>\n",
       "      <td>1</td>\n",
       "      <td>Lynchburg</td>\n",
       "      <td>Lynchburg</td>\n",
       "      <td>SC</td>\n",
       "      <td>1733670</td>\n",
       "      <td>47.494224</td>\n",
       "      <td>tuesday</td>\n",
       "      <td>10</td>\n",
       "      <td>12</td>\n",
       "      <td>2019</td>\n",
       "      <td>0.0</td>\n",
       "    </tr>\n",
       "    <tr>\n",
       "      <th>2</th>\n",
       "      <td>150.0</td>\n",
       "      <td>Bidirectional</td>\n",
       "      <td>3.180</td>\n",
       "      <td>Dickenson County</td>\n",
       "      <td>7.55</td>\n",
       "      <td>Dickenson County</td>\n",
       "      <td>720637</td>\n",
       "      <td>1</td>\n",
       "      <td>1</td>\n",
       "      <td>Bristol</td>\n",
       "      <td>Bristol</td>\n",
       "      <td>SC</td>\n",
       "      <td>1857885</td>\n",
       "      <td>8693.982351</td>\n",
       "      <td>monday</td>\n",
       "      <td>29</td>\n",
       "      <td>11</td>\n",
       "      <td>2021</td>\n",
       "      <td>0.0</td>\n",
       "    </tr>\n",
       "    <tr>\n",
       "      <th>3</th>\n",
       "      <td>47.0</td>\n",
       "      <td>Bidirectional</td>\n",
       "      <td>2.000</td>\n",
       "      <td>Nelson County</td>\n",
       "      <td>5.40</td>\n",
       "      <td>Nelson County</td>\n",
       "      <td>755648</td>\n",
       "      <td>1</td>\n",
       "      <td>1</td>\n",
       "      <td>Lynchburg</td>\n",
       "      <td>Lynchburg</td>\n",
       "      <td>SC</td>\n",
       "      <td>2111709</td>\n",
       "      <td>6516.476138</td>\n",
       "      <td>thursday</td>\n",
       "      <td>30</td>\n",
       "      <td>7</td>\n",
       "      <td>2020</td>\n",
       "      <td>0.0</td>\n",
       "    </tr>\n",
       "    <tr>\n",
       "      <th>4</th>\n",
       "      <td>30.0</td>\n",
       "      <td>Bidirectional</td>\n",
       "      <td>2.031</td>\n",
       "      <td>Washington County</td>\n",
       "      <td>2.08</td>\n",
       "      <td>Washington County</td>\n",
       "      <td>776797</td>\n",
       "      <td>1</td>\n",
       "      <td>1</td>\n",
       "      <td>Bristol</td>\n",
       "      <td>Bristol</td>\n",
       "      <td>SC</td>\n",
       "      <td>1594318</td>\n",
       "      <td>100.504177</td>\n",
       "      <td>friday</td>\n",
       "      <td>7</td>\n",
       "      <td>7</td>\n",
       "      <td>2017</td>\n",
       "      <td>0.0</td>\n",
       "    </tr>\n",
       "  </tbody>\n",
       "</table>\n",
       "</div>"
      ],
      "text/plain": [
       "     ADT LOC_COMP_DIRECTIONALITY_NAME  ROUTE_FROM_MEASURE  FROM_JURISDICTION  \\\n",
       "0  490.0                Bidirectional               0.000   Frederick County   \n",
       "1   10.0                Bidirectional               0.620    Campbell County   \n",
       "2  150.0                Bidirectional               3.180   Dickenson County   \n",
       "3   47.0                Bidirectional               2.000      Nelson County   \n",
       "4   30.0                Bidirectional               2.031  Washington County   \n",
       "\n",
       "   ROUTE_TO_MEASURE    TO_JURISDICTION  EVENT_SOURCE_ID  EVENT_LOCATION_ID  \\\n",
       "0              0.24   Frederick County           795997                  1   \n",
       "1              0.64    Campbell County           709217                  1   \n",
       "2              7.55   Dickenson County           720637                  1   \n",
       "3              5.40      Nelson County           755648                  1   \n",
       "4              2.08  Washington County           776797                  1   \n",
       "\n",
       "   EVENT_COMPONENT_ID FROM_DISTRICT TO_DISTRICT RTE_TYPE_CD   RTE_ID  \\\n",
       "0                   1      Staunton    Staunton          SC  2532756   \n",
       "1                   1     Lynchburg   Lynchburg          SC  1733670   \n",
       "2                   1       Bristol     Bristol          SC  1857885   \n",
       "3                   1     Lynchburg   Lynchburg          SC  2111709   \n",
       "4                   1       Bristol     Bristol          SC  1594318   \n",
       "\n",
       "   Shape__Length  DAY_WEEK  DAY  MONTH  YEAR  Total Crashes  \n",
       "0     478.381712   tuesday    7      6  2011            0.0  \n",
       "1      47.494224   tuesday   10     12  2019            0.0  \n",
       "2    8693.982351    monday   29     11  2021            0.0  \n",
       "3    6516.476138  thursday   30      7  2020            0.0  \n",
       "4     100.504177    friday    7      7  2017            0.0  "
      ]
     },
     "execution_count": 87,
     "metadata": {},
     "output_type": "execute_result"
    }
   ],
   "source": [
    "combined_df.head()"
   ]
  },
  {
   "cell_type": "markdown",
   "metadata": {},
   "source": [
    "additional features may be added or dropped after some testing:"
   ]
  },
  {
   "cell_type": "markdown",
   "metadata": {},
   "source": [
    "visualization:"
   ]
  },
  {
   "cell_type": "code",
   "execution_count": 88,
   "metadata": {},
   "outputs": [],
   "source": [
    "import numpy as np\n",
    "import matplotlib\n",
    "import matplotlib.pyplot as plt\n",
    "import pandas as pd"
   ]
  },
  {
   "cell_type": "code",
   "execution_count": 89,
   "metadata": {},
   "outputs": [
    {
     "data": {
      "image/png": "[encoded data removed]",
      "text/plain": [
       "<Figure size 480x480 with 2 Axes>"
      ]
     },
     "metadata": {},
     "output_type": "display_data"
    }
   ],
   "source": [
    "plt.matshow(combined_df.corr(numeric_only=True))\n",
    "\n",
    "# plt.xticks(range(insurance.select_dtypes(['number']).shape[1]), insurance.select_dtypes(['number']).columns, fontsize=10, rotation=90)\n",
    "# plt.yticks(range(insurance.select_dtypes(['number']).shape[1]), insurance.select_dtypes(['number']).columns, fontsize=10)\n",
    "\n",
    "plt.xticks(range(combined_df.select_dtypes(['number']).shape[1]), combined_df.select_dtypes(['number']).columns, fontsize=10, rotation=90)\n",
    "plt.yticks(range(combined_df.select_dtypes(['number']).shape[1]), combined_df.select_dtypes(['number']).columns, fontsize=10)\n",
    "\n",
    "cb = plt.colorbar()\n",
    "cb.ax.tick_params(labelsize=5)\n",
    "\n",
    "plt.title('Correlation Matrix')\n",
    "plt.show()"
   ]
  },
  {
   "cell_type": "code",
   "execution_count": null,
   "metadata": {},
   "outputs": [],
   "source": [
    "combined_df.describe()"
   ]
  },
  {
   "cell_type": "code",
   "execution_count": null,
   "metadata": {},
   "outputs": [],
   "source": [
    "combined_df.hist(bins=50, figsize=(24,16))\n",
    "plt.show()"
   ]
  },
  {
   "cell_type": "code",
   "execution_count": null,
   "metadata": {},
   "outputs": [
    {
     "data": {
      "text/plain": [
       "<Axes: xlabel='MONTH', ylabel='ADT'>"
      ]
     },
     "metadata": {},
     "output_type": "display_data"
    },
    {
     "data": {
      "image/png": "[encoded data removed]",
      "text/plain": [
       "<Figure size 640x480 with 1 Axes>"
      ]
     },
     "metadata": {},
     "output_type": "display_data"
    }
   ],
   "source": [
    "import seaborn as sns\n",
    "sns.scatterplot(data=combined_df,x='MONTH',y='ADT', hue='DAY')"
   ]
  },
  {
   "cell_type": "code",
   "execution_count": null,
   "metadata": {},
   "outputs": [
    {
     "data": {
      "text/plain": [
       "<Axes: xlabel='YEAR', ylabel='ADT'>"
      ]
     },
     "metadata": {},
     "output_type": "display_data"
    },
    {
     "data": {
      "image/png": "[encoded data removed]",
      "text/plain": [
       "<Figure size 640x480 with 1 Axes>"
      ]
     },
     "metadata": {},
     "output_type": "display_data"
    }
   ],
   "source": [
    "sns.scatterplot(data=combined_df,x='YEAR',y='ADT', hue='Total Crashes')"
   ]
  },
  {
   "cell_type": "code",
   "execution_count": null,
   "metadata": {},
   "outputs": [
    {
     "data": {
      "text/plain": [
       "<Axes: xlabel='YEAR', ylabel='Total Crashes'>"
      ]
     },
     "metadata": {},
     "output_type": "display_data"
    },
    {
     "data": {
      "image/png": "[encoded data removed]",
      "text/plain": [
       "<Figure size 640x480 with 1 Axes>"
      ]
     },
     "metadata": {},
     "output_type": "display_data"
    }
   ],
   "source": [
    "sns.scatterplot(data=combined_df,x='YEAR',y='Total Crashes', hue='ADT')"
   ]
  },
  {
   "cell_type": "code",
   "execution_count": null,
   "metadata": {},
   "outputs": [
    {
     "data": {
      "text/plain": [
       "<Axes: xlabel='ADT', ylabel='Density'>"
      ]
     },
     "metadata": {},
     "output_type": "display_data"
    },
    {
     "data": {
      "image/png": "[encoded data removed]",
      "text/plain": [
       "<Figure size 640x480 with 1 Axes>"
      ]
     },
     "metadata": {},
     "output_type": "display_data"
    }
   ],
   "source": [
    "sns.kdeplot(combined_df['ADT']) # a lot of 0s..."
   ]
  },
  {
   "cell_type": "markdown",
   "metadata": {},
   "source": [
    "Transformation and model:"
   ]
  },
  {
   "cell_type": "code",
   "execution_count": 99,
   "metadata": {},
   "outputs": [
    {
     "name": "stdout",
     "output_type": "stream",
     "text": [
      "  (0, 0)\t-0.20219697419208302\n",
      "  (0, 1)\t-0.21410157310156572\n",
      "  (0, 2)\t0.4317195359236261\n",
      "  (0, 3)\t0.19549279393964888\n",
      "  (0, 4)\t-0.4545189570957395\n",
      "  (0, 5)\t-0.12944790516349036\n",
      "  (0, 6)\t-0.4946693813918912\n",
      "  (0, 7)\t1.0\n",
      "  (0, 31)\t1.0\n",
      "  (0, 215)\t1.0\n",
      "  (0, 385)\t1.0\n",
      "  (0, 395)\t1.0\n",
      "  (0, 404)\t1.0\n",
      "  (1, 0)\t-0.20219697419208302\n",
      "  (1, 1)\t-0.21137045620912928\n",
      "  (1, 2)\t1.4619434297932334\n",
      "  (1, 3)\t-1.185881031324517\n",
      "  (1, 4)\t-0.062177237154699895\n",
      "  (1, 5)\t-0.12944790516349036\n",
      "  (1, 6)\t-0.3932911842277726\n",
      "  (1, 7)\t1.0\n",
      "  (1, 81)\t1.0\n",
      "  (1, 265)\t1.0\n",
      "  (1, 386)\t1.0\n",
      "  (1, 396)\t1.0\n",
      "  :\t:\n",
      "  (91254, 1)\t-0.21328223803383478\n",
      "  (91254, 2)\t-1.1136163048807848\n",
      "  (91254, 3)\t-1.185881031324517\n",
      "  (91254, 4)\t0.9186770626978991\n",
      "  (91254, 5)\t-0.12944790516349036\n",
      "  (91254, 6)\t-0.40187338677905093\n",
      "  (91254, 9)\t1.0\n",
      "  (91254, 91)\t1.0\n",
      "  (91254, 275)\t1.0\n",
      "  (91254, 385)\t1.0\n",
      "  (91254, 395)\t1.0\n",
      "  (91254, 401)\t1.0\n",
      "  (91255, 0)\t-0.14258505960003764\n",
      "  (91255, 1)\t-0.10513000909335245\n",
      "  (91255, 2)\t-1.1136163048807848\n",
      "  (91255, 3)\t-1.185881031324517\n",
      "  (91255, 4)\t0.9186770626978991\n",
      "  (91255, 5)\t-0.12944790516349036\n",
      "  (91255, 6)\t1.3941276753882197\n",
      "  (91255, 7)\t1.0\n",
      "  (91255, 12)\t1.0\n",
      "  (91255, 196)\t1.0\n",
      "  (91255, 380)\t1.0\n",
      "  (91255, 390)\t1.0\n",
      "  (91255, 401)\t1.0\n"
     ]
    }
   ],
   "source": [
    "# Pipeline\n",
    "from sklearn.pipeline import Pipeline\n",
    "from sklearn.preprocessing import StandardScaler\n",
    "from sklearn.impute import SimpleImputer\n",
    "from sklearn.compose import ColumnTransformer\n",
    "from sklearn.preprocessing import OneHotEncoder\n",
    "from sklearn.model_selection import train_test_split\n",
    "\n",
    "combined_df.dropna(subset=['ADT'], inplace=True)\n",
    "combined_df = combined_df[combined_df[\"FROM_JURISDICTION\"] != \"Town of Narrows\"]\n",
    "\n",
    "train_set, test_set = train_test_split(combined_df)\n",
    "\n",
    "train_labels = train_set[\"ADT\"].copy()\n",
    "\n",
    "traffic_train = train_set.drop(\"ADT\", axis=1)\n",
    "\n",
    "test_labels = test_set[\"ADT\"].copy()\n",
    "\n",
    "traffic_test = test_set.drop(\"ADT\", axis=1)\n",
    "\n",
    "num_attr = [\"ROUTE_FROM_MEASURE\",\"ROUTE_TO_MEASURE\", \"DAY\", \"MONTH\", \"YEAR\", \"Total Crashes\", \"Shape__Length\"]\n",
    "cat_attr = [\"LOC_COMP_DIRECTIONALITY_NAME\",\"FROM_JURISDICTION\", \"TO_JURISDICTION\", \"FROM_DISTRICT\", \"TO_DISTRICT\",\"DAY_WEEK\"]\n",
    "\n",
    "num_pipeline = Pipeline([\n",
    "        ('imputer', SimpleImputer(strategy=\"median\")),\n",
    "        ('std_scaler', StandardScaler()),\n",
    "    ])\n",
    "\n",
    "\n",
    "\n",
    "full_pipeline = ColumnTransformer([\n",
    "        (\"num\", num_pipeline, num_attr),\n",
    "        (\"cat\", OneHotEncoder(), cat_attr),\n",
    "    ])\n",
    "\n",
    "traffic_prepared = full_pipeline.fit_transform(traffic_train)\n",
    "\n",
    "print(traffic_prepared)"
   ]
  },
  {
   "cell_type": "code",
   "execution_count": 91,
   "metadata": {},
   "outputs": [
    {
     "name": "stdout",
     "output_type": "stream",
     "text": [
      "  (0, 0)\t-0.20293841925054248\n",
      "  (0, 1)\t-0.21043054569154787\n",
      "  (0, 2)\t-0.4946215903921851\n",
      "  (0, 3)\t0.19652031471915815\n",
      "  (0, 4)\t-1.2387481244531757\n",
      "  (0, 5)\t-0.1293764553447487\n",
      "  (0, 6)\t-0.3372418317369912\n",
      "  (0, 7)\t1.0\n",
      "  (0, 82)\t1.0\n",
      "  (0, 266)\t1.0\n",
      "  (0, 387)\t1.0\n",
      "  (0, 397)\t1.0\n",
      "  (0, 404)\t1.0\n",
      "  (1, 0)\t-0.18594196108590563\n",
      "  (1, 1)\t-0.1995289017156777\n",
      "  (1, 2)\t-0.1853619436924055\n",
      "  (1, 3)\t1.851851158389659\n",
      "  (1, 4)\t0.3295219780092643\n",
      "  (1, 5)\t-0.1293764553447487\n",
      "  (1, 6)\t-0.5626147551963558\n",
      "  (1, 7)\t1.0\n",
      "  (1, 26)\t1.0\n",
      "  (1, 210)\t1.0\n",
      "  (1, 383)\t1.0\n",
      "  (1, 393)\t1.0\n",
      "  :\t:\n",
      "  (3, 1)\t-0.0697993384028226\n",
      "  (3, 2)\t1.8763690343061252\n",
      "  (3, 3)\t0.47240878866424163\n",
      "  (3, 4)\t0.5255557408170692\n",
      "  (3, 5)\t-0.1293764553447487\n",
      "  (3, 6)\t2.8209445430962234\n",
      "  (3, 7)\t1.0\n",
      "  (3, 110)\t1.0\n",
      "  (3, 294)\t1.0\n",
      "  (3, 383)\t1.0\n",
      "  (3, 393)\t1.0\n",
      "  (3, 403)\t1.0\n",
      "  (4, 0)\t-0.14726131194025632\n",
      "  (4, 1)\t-0.16028298340254507\n",
      "  (4, 2)\t-0.4946215903921851\n",
      "  (4, 3)\t0.47240878866424163\n",
      "  (4, 4)\t-0.0625455476063457\n",
      "  (4, 5)\t-0.1293764553447487\n",
      "  (4, 6)\t-0.5348882410545124\n",
      "  (4, 7)\t1.0\n",
      "  (4, 189)\t1.0\n",
      "  (4, 373)\t1.0\n",
      "  (4, 379)\t1.0\n",
      "  (4, 389)\t1.0\n",
      "  (4, 399)\t1.0\n",
      "Predictions: [ -767.43961559  -535.14300966  1350.44103015  1006.27900987\n",
      " -1099.65377395]\n",
      "Labels: [160.0, 70.0, 240.0, 120.0, 20.0]\n"
     ]
    }
   ],
   "source": [
    "from sklearn.linear_model import LinearRegression\n",
    "lin_reg = LinearRegression()\n",
    "\n",
    "traffic_prepared.shape\n",
    "\n",
    "# train_labels.isnull().sum()\n",
    "\n",
    "lin_reg.fit(traffic_prepared, train_labels)\n",
    "\n",
    "some_data = combined_df.iloc[:5]\n",
    "some_labels = train_labels.iloc[:5]\n",
    "some_data_prepared = full_pipeline.transform(some_data)\n",
    "# Note here that you only use transform() instead of fit_tranform becausue you are not trying to learn any parameter (ie. median)\n",
    "print(some_data_prepared)\n",
    "print(\"Predictions:\", lin_reg.predict(some_data_prepared))\n",
    "\n",
    "print(\"Labels:\", list(some_labels))"
   ]
  },
  {
   "cell_type": "code",
   "execution_count": 92,
   "metadata": {},
   "outputs": [
    {
     "name": "stdout",
     "output_type": "stream",
     "text": [
      "Scores: [7927.00964621 8310.95812907 7383.53096748 7748.46234324 7874.30726631\n",
      " 7703.12831976 9114.45786668 8104.41145189 7312.57357875 6644.80177658]\n",
      "Mean: 7812.364134598029\n",
      "Standard deviation: 621.2264068644294\n"
     ]
    }
   ],
   "source": [
    "from sklearn.metrics import mean_squared_error\n",
    "from sklearn.model_selection import cross_val_score\n",
    "\n",
    "def display_scores(scores):\n",
    "    print(\"Scores:\", scores)\n",
    "    print(\"Mean:\", scores.mean())\n",
    "    print(\"Standard deviation:\", scores.std())\n",
    "\n",
    "traffic_predictions = lin_reg.predict(traffic_prepared)\n",
    "lin_mse = mean_squared_error(train_labels, traffic_predictions)\n",
    "lin_rmse = np.sqrt(lin_mse)\n",
    "lin_rmse\n",
    "\n",
    "lin_scores = cross_val_score(lin_reg, traffic_prepared, train_labels,\n",
    "                             scoring=\"neg_mean_squared_error\", cv=10)\n",
    "lin_rmse_scores = np.sqrt(-lin_scores)\n",
    "display_scores(lin_rmse_scores)"
   ]
  },
  {
   "cell_type": "code",
   "execution_count": 93,
   "metadata": {},
   "outputs": [
    {
     "data": {
      "text/html": [
       "<div>\n",
       "<style scoped>\n",
       "    .dataframe tbody tr th:only-of-type {\n",
       "        vertical-align: middle;\n",
       "    }\n",
       "\n",
       "    .dataframe tbody tr th {\n",
       "        vertical-align: top;\n",
       "    }\n",
       "\n",
       "    .dataframe thead th {\n",
       "        text-align: right;\n",
       "    }\n",
       "</style>\n",
       "<table border=\"1\" class=\"dataframe\">\n",
       "  <thead>\n",
       "    <tr style=\"text-align: right;\">\n",
       "      <th></th>\n",
       "      <th>ADT</th>\n",
       "      <th>ROUTE_FROM_MEASURE</th>\n",
       "      <th>ROUTE_TO_MEASURE</th>\n",
       "      <th>EVENT_SOURCE_ID</th>\n",
       "      <th>EVENT_LOCATION_ID</th>\n",
       "      <th>EVENT_COMPONENT_ID</th>\n",
       "      <th>RTE_ID</th>\n",
       "      <th>Shape__Length</th>\n",
       "      <th>DAY</th>\n",
       "      <th>MONTH</th>\n",
       "      <th>YEAR</th>\n",
       "      <th>Total Crashes</th>\n",
       "    </tr>\n",
       "  </thead>\n",
       "  <tbody>\n",
       "    <tr>\n",
       "      <th>count</th>\n",
       "      <td>121676.000000</td>\n",
       "      <td>121676.000000</td>\n",
       "      <td>121676.000000</td>\n",
       "      <td>121676.000000</td>\n",
       "      <td>121676.000000</td>\n",
       "      <td>121676.000000</td>\n",
       "      <td>1.216760e+05</td>\n",
       "      <td>121537.000000</td>\n",
       "      <td>121676.000000</td>\n",
       "      <td>121676.000000</td>\n",
       "      <td>121676.000000</td>\n",
       "      <td>121676.000000</td>\n",
       "    </tr>\n",
       "    <tr>\n",
       "      <th>mean</th>\n",
       "      <td>2925.920798</td>\n",
       "      <td>7.427087</td>\n",
       "      <td>7.985825</td>\n",
       "      <td>680139.468868</td>\n",
       "      <td>1.001307</td>\n",
       "      <td>1.094300</td>\n",
       "      <td>2.278001e+06</td>\n",
       "      <td>1124.894898</td>\n",
       "      <td>11.805467</td>\n",
       "      <td>5.292112</td>\n",
       "      <td>2017.321896</td>\n",
       "      <td>0.104663</td>\n",
       "    </tr>\n",
       "    <tr>\n",
       "      <th>std</th>\n",
       "      <td>11005.180857</td>\n",
       "      <td>36.667524</td>\n",
       "      <td>36.875744</td>\n",
       "      <td>177604.916451</td>\n",
       "      <td>0.037466</td>\n",
       "      <td>0.424695</td>\n",
       "      <td>1.966400e+06</td>\n",
       "      <td>1912.619735</td>\n",
       "      <td>9.701707</td>\n",
       "      <td>3.624287</td>\n",
       "      <td>5.096088</td>\n",
       "      <td>0.807374</td>\n",
       "    </tr>\n",
       "    <tr>\n",
       "      <th>min</th>\n",
       "      <td>0.000000</td>\n",
       "      <td>0.000000</td>\n",
       "      <td>0.003000</td>\n",
       "      <td>10005.000000</td>\n",
       "      <td>1.000000</td>\n",
       "      <td>1.000000</td>\n",
       "      <td>1.372701e+06</td>\n",
       "      <td>0.163981</td>\n",
       "      <td>1.000000</td>\n",
       "      <td>1.000000</td>\n",
       "      <td>1986.000000</td>\n",
       "      <td>0.000000</td>\n",
       "    </tr>\n",
       "    <tr>\n",
       "      <th>25%</th>\n",
       "      <td>90.000000</td>\n",
       "      <td>0.000000</td>\n",
       "      <td>0.140000</td>\n",
       "      <td>707570.750000</td>\n",
       "      <td>1.000000</td>\n",
       "      <td>1.000000</td>\n",
       "      <td>1.638377e+06</td>\n",
       "      <td>168.471838</td>\n",
       "      <td>1.000000</td>\n",
       "      <td>1.000000</td>\n",
       "      <td>2015.000000</td>\n",
       "      <td>0.000000</td>\n",
       "    </tr>\n",
       "    <tr>\n",
       "      <th>50%</th>\n",
       "      <td>230.000000</td>\n",
       "      <td>0.000000</td>\n",
       "      <td>0.350000</td>\n",
       "      <td>737897.500000</td>\n",
       "      <td>1.000000</td>\n",
       "      <td>1.000000</td>\n",
       "      <td>1.897503e+06</td>\n",
       "      <td>385.635457</td>\n",
       "      <td>10.000000</td>\n",
       "      <td>5.000000</td>\n",
       "      <td>2018.000000</td>\n",
       "      <td>0.000000</td>\n",
       "    </tr>\n",
       "    <tr>\n",
       "      <th>75%</th>\n",
       "      <td>950.000000</td>\n",
       "      <td>0.600000</td>\n",
       "      <td>1.540000</td>\n",
       "      <td>768758.250000</td>\n",
       "      <td>1.000000</td>\n",
       "      <td>1.000000</td>\n",
       "      <td>2.149436e+06</td>\n",
       "      <td>1168.175414</td>\n",
       "      <td>20.000000</td>\n",
       "      <td>8.000000</td>\n",
       "      <td>2022.000000</td>\n",
       "      <td>0.000000</td>\n",
       "    </tr>\n",
       "    <tr>\n",
       "      <th>max</th>\n",
       "      <td>245000.000000</td>\n",
       "      <td>508.757000</td>\n",
       "      <td>509.720000</td>\n",
       "      <td>990120.000000</td>\n",
       "      <td>3.000000</td>\n",
       "      <td>11.000000</td>\n",
       "      <td>3.802397e+07</td>\n",
       "      <td>44742.909029</td>\n",
       "      <td>31.000000</td>\n",
       "      <td>12.000000</td>\n",
       "      <td>2022.000000</td>\n",
       "      <td>16.000000</td>\n",
       "    </tr>\n",
       "  </tbody>\n",
       "</table>\n",
       "</div>"
      ],
      "text/plain": [
       "                 ADT  ROUTE_FROM_MEASURE  ROUTE_TO_MEASURE  EVENT_SOURCE_ID  \\\n",
       "count  121676.000000       121676.000000     121676.000000    121676.000000   \n",
       "mean     2925.920798            7.427087          7.985825    680139.468868   \n",
       "std     11005.180857           36.667524         36.875744    177604.916451   \n",
       "min         0.000000            0.000000          0.003000     10005.000000   \n",
       "25%        90.000000            0.000000          0.140000    707570.750000   \n",
       "50%       230.000000            0.000000          0.350000    737897.500000   \n",
       "75%       950.000000            0.600000          1.540000    768758.250000   \n",
       "max    245000.000000          508.757000        509.720000    990120.000000   \n",
       "\n",
       "       EVENT_LOCATION_ID  EVENT_COMPONENT_ID        RTE_ID  Shape__Length  \\\n",
       "count      121676.000000       121676.000000  1.216760e+05  121537.000000   \n",
       "mean            1.001307            1.094300  2.278001e+06    1124.894898   \n",
       "std             0.037466            0.424695  1.966400e+06    1912.619735   \n",
       "min             1.000000            1.000000  1.372701e+06       0.163981   \n",
       "25%             1.000000            1.000000  1.638377e+06     168.471838   \n",
       "50%             1.000000            1.000000  1.897503e+06     385.635457   \n",
       "75%             1.000000            1.000000  2.149436e+06    1168.175414   \n",
       "max             3.000000           11.000000  3.802397e+07   44742.909029   \n",
       "\n",
       "                 DAY          MONTH           YEAR  Total Crashes  \n",
       "count  121676.000000  121676.000000  121676.000000  121676.000000  \n",
       "mean       11.805467       5.292112    2017.321896       0.104663  \n",
       "std         9.701707       3.624287       5.096088       0.807374  \n",
       "min         1.000000       1.000000    1986.000000       0.000000  \n",
       "25%         1.000000       1.000000    2015.000000       0.000000  \n",
       "50%        10.000000       5.000000    2018.000000       0.000000  \n",
       "75%        20.000000       8.000000    2022.000000       0.000000  \n",
       "max        31.000000      12.000000    2022.000000      16.000000  "
      ]
     },
     "execution_count": 93,
     "metadata": {},
     "output_type": "execute_result"
    }
   ],
   "source": [
    "combined_df.describe()"
   ]
  },
  {
   "cell_type": "code",
   "execution_count": 94,
   "metadata": {},
   "outputs": [
    {
     "name": "stdout",
     "output_type": "stream",
     "text": [
      "Scores: [6048.8588823  6463.76163146 5731.78042463 6230.47225345 5685.95542984]\n",
      "Mean: 6032.165724335413\n",
      "Standard deviation: 295.28700085159784\n"
     ]
    }
   ],
   "source": [
    "from sklearn.tree import DecisionTreeRegressor\n",
    "from sklearn.model_selection import cross_val_score\n",
    "\n",
    "tree_reg = DecisionTreeRegressor(random_state=42)\n",
    "tree_reg.fit(traffic_prepared, train_labels)\n",
    "\n",
    "traffic_predictions = tree_reg.predict(traffic_prepared)\n",
    "tree_mse = mean_squared_error(train_labels, traffic_predictions)\n",
    "tree_rmse = np.sqrt(tree_mse)\n",
    "tree_rmse\n",
    "\n",
    "scores = cross_val_score(tree_reg, traffic_prepared, train_labels, scoring=\"neg_mean_squared_error\", cv=5)\n",
    "tree_rmse_scores = np.sqrt(-scores)\n",
    "\n",
    "display_scores(tree_rmse_scores)"
   ]
  },
  {
   "cell_type": "code",
   "execution_count": 100,
   "metadata": {},
   "outputs": [
    {
     "data": {
      "text/plain": [
       "6964.008681845585"
      ]
     },
     "execution_count": 100,
     "metadata": {},
     "output_type": "execute_result"
    }
   ],
   "source": [
    "from sklearn.model_selection import GridSearchCV\n",
    "\n",
    "param_grid = [\n",
    "    # try 12 (3×4) combinations of hyperparameters\n",
    "    { 'max_features': [2, 4, 6, 8]},\n",
    "    # then try 6 (2×3) combinations with bootstrap set as False\n",
    "  ]\n",
    "\n",
    "decision_reg = DecisionTreeRegressor(random_state=42)\n",
    "# train across 5 folds, that's a total of 90 rounds of training\n",
    "grid_search = GridSearchCV(decision_reg, param_grid, cv=5,\n",
    "                           scoring='neg_mean_squared_error',\n",
    "                           return_train_score=True)\n",
    "grid_search.fit(traffic_prepared, train_labels)\n",
    "\n",
    "grid_search.best_params_\n",
    "\n",
    "grid_search.best_estimator_\n",
    "\n",
    "final_model = grid_search.best_estimator_\n",
    "\n",
    "X_test_prepared = full_pipeline.transform(traffic_test)\n",
    "final_predictions = final_model.predict(X_test_prepared)\n",
    "\n",
    "final_mse = mean_squared_error(test_labels, final_predictions)\n",
    "final_rmse = np.sqrt(final_mse)\n",
    "\n",
    "final_rmse"
   ]
  }
 ],
 "metadata": {
  "kernelspec": {
   "display_name": "Python 3",
   "language": "python",
   "name": "python3"
  },
  "language_info": {
   "codemirror_mode": {
    "name": "ipython",
    "version": 3
   },
   "file_extension": ".py",
   "mimetype": "text/x-python",
   "name": "python",
   "nbconvert_exporter": "python",
   "pygments_lexer": "ipython3",
   "version": "3.10.6"
  }
 },
 "nbformat": 4,
 "nbformat_minor": 2
}
