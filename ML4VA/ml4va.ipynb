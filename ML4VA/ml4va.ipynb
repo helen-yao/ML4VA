{
 "cells": [
  {
   "cell_type": "markdown",
   "metadata": {},
   "source": [
    "ML4VA"
   ]
  },
  {
   "cell_type": "markdown",
   "metadata": {},
   "source": [
    "Helen Yao, Eva Butler, and Larissa Cybyk"
   ]
  },
  {
   "cell_type": "code",
   "execution_count": 1,
   "metadata": {},
   "outputs": [
    {
     "name": "stderr",
     "output_type": "stream",
     "text": [
      "C:\\Users\\l3n3c\\AppData\\Local\\Temp\\ipykernel_50240\\2162656668.py:1: DeprecationWarning: \n",
      "Pyarrow will become a required dependency of pandas in the next major release of pandas (pandas 3.0),\n",
      "(to allow more performant data types, such as the Arrow string type, and better interoperability with other libraries)\n",
      "but was not found to be installed on your system.\n",
      "If this would cause problems for you,\n",
      "please provide us feedback at https://github.com/pandas-dev/pandas/issues/54466\n",
      "        \n",
      "  import pandas as pd\n"
     ]
    }
   ],
   "source": [
    "import pandas as pd\n",
    "import numpy as np"
   ]
  },
  {
   "cell_type": "markdown",
   "metadata": {},
   "source": [
    "Data Cleaning & Visualization"
   ]
  },
  {
   "cell_type": "code",
   "execution_count": 73,
   "metadata": {},
   "outputs": [],
   "source": [
    "# load data\n",
    "\n",
    "traffic_volume = pd.read_csv('./VDOT_Traffic_Volume.csv')"
   ]
  },
  {
   "cell_type": "code",
   "execution_count": 74,
   "metadata": {},
   "outputs": [
    {
     "name": "stdout",
     "output_type": "stream",
     "text": [
      "(121679, 42)\n",
      "OBJECTID                             0\n",
      "LINKID                               0\n",
      "DATA_DATE                            0\n",
      "ROUTE_COMMON_NAME                    0\n",
      "ROUTE_NAME                           0\n",
      "HTRIS_ID                           745\n",
      "ROUTE_ALIAS                          0\n",
      "START_LABEL                          0\n",
      "END_LABEL                            0\n",
      "ADT                                  3\n",
      "ADT_QUALITY                          0\n",
      "PERCENT_4_TIRE                   94712\n",
      "PERCENT_BUS                      94712\n",
      "PERCENT_TRUCK_2_AXLE             94712\n",
      "PERCENT_TRUCK_3_AXLE             94712\n",
      "PERCENT_TRUCK_1_TRAIL            94712\n",
      "PERCENT_TRUCK_2_TRAIL            94712\n",
      "CLASS_QUALITY_CODE                   0\n",
      "K_FACTOR                         92351\n",
      "K_FACTOR_QUALITY_CODE               63\n",
      "DIRECTION_FACTOR                 92371\n",
      "AAWDT                            91950\n",
      "AAWDT_QUALITY_CODE                   6\n",
      "LOC_COMP_DIRECTIONALITY_NAME       196\n",
      "ROUTE_FROM_MEASURE                   0\n",
      "FROM_JURISDICTION                   19\n",
      "ROUTE_TO_MEASURE                     0\n",
      "TO_JURISDICTION                     13\n",
      "PEAK_SINGLE_UNIT_TRUCK           95865\n",
      "PEAK_COMBINATION_TRUCK           95865\n",
      "EVENT_SOURCE_ID                      0\n",
      "EVENT_LOCATION_ID                    0\n",
      "EVENT_COMPONENT_ID                   0\n",
      "MAXIMUMSCALEDENOMINATOR              9\n",
      "ROUTE_COMMON_NAME_ADT                0\n",
      "FROM_DISTRICT                      431\n",
      "TO_DISTRICT                        544\n",
      "RTE_TYPE_CD                          0\n",
      "RTE_ID                               0\n",
      "DATA_CUSTODIAN_EMAIL            121679\n",
      "METADATA_URL                    121679\n",
      "Shape__Length                      139\n",
      "dtype: int64\n"
     ]
    }
   ],
   "source": [
    "traffic_volume.head()\n",
    "\n",
    "traffic_volume.columns\n",
    "print(traffic_volume.shape)\n",
    "nulls = traffic_volume.isnull().sum()\n",
    "print(nulls)"
   ]
  },
  {
   "cell_type": "code",
   "execution_count": 75,
   "metadata": {},
   "outputs": [
    {
     "name": "stdout",
     "output_type": "stream",
     "text": [
      "['PERCENT_4_TIRE', 'PERCENT_BUS', 'PERCENT_TRUCK_2_AXLE', 'PERCENT_TRUCK_3_AXLE', 'PERCENT_TRUCK_1_TRAIL', 'PERCENT_TRUCK_2_TRAIL', 'K_FACTOR', 'DIRECTION_FACTOR', 'AAWDT', 'PEAK_SINGLE_UNIT_TRUCK', 'PEAK_COMBINATION_TRUCK', 'DATA_CUSTODIAN_EMAIL', 'METADATA_URL']\n"
     ]
    }
   ],
   "source": [
    "# dropping null columns / columns with a lot of missing data\n",
    "\n",
    "to_drop = []\n",
    "for col in traffic_volume.columns:\n",
    "    if nulls[col] > 90000:\n",
    "        to_drop.append(col)\n",
    "print(to_drop)\n",
    "traffic_volume = traffic_volume.drop(columns=to_drop)"
   ]
  },
  {
   "cell_type": "code",
   "execution_count": 76,
   "metadata": {},
   "outputs": [
    {
     "data": {
      "text/plain": [
       "OBJECTID                          0\n",
       "LINKID                            0\n",
       "DATA_DATE                         0\n",
       "ROUTE_COMMON_NAME                 0\n",
       "ROUTE_NAME                        0\n",
       "HTRIS_ID                        745\n",
       "ROUTE_ALIAS                       0\n",
       "START_LABEL                       0\n",
       "END_LABEL                         0\n",
       "ADT                               3\n",
       "ADT_QUALITY                       0\n",
       "CLASS_QUALITY_CODE                0\n",
       "K_FACTOR_QUALITY_CODE            63\n",
       "AAWDT_QUALITY_CODE                6\n",
       "LOC_COMP_DIRECTIONALITY_NAME    196\n",
       "ROUTE_FROM_MEASURE                0\n",
       "FROM_JURISDICTION                19\n",
       "ROUTE_TO_MEASURE                  0\n",
       "TO_JURISDICTION                  13\n",
       "EVENT_SOURCE_ID                   0\n",
       "EVENT_LOCATION_ID                 0\n",
       "EVENT_COMPONENT_ID                0\n",
       "MAXIMUMSCALEDENOMINATOR           9\n",
       "ROUTE_COMMON_NAME_ADT             0\n",
       "FROM_DISTRICT                   431\n",
       "TO_DISTRICT                     544\n",
       "RTE_TYPE_CD                       0\n",
       "RTE_ID                            0\n",
       "Shape__Length                   139\n",
       "dtype: int64"
      ]
     },
     "execution_count": 76,
     "metadata": {},
     "output_type": "execute_result"
    }
   ],
   "source": [
    "traffic_volume.isnull().sum()"
   ]
  },
  {
   "cell_type": "code",
   "execution_count": 77,
   "metadata": {},
   "outputs": [],
   "source": [
    "# adding day of week feature\n",
    "import re\n",
    "import datetime\n",
    "import calendar\n",
    "\n",
    "def convert_date(date):\n",
    "    stripped = date.split('/')\n",
    "    try:\n",
    "        given_date = datetime.datetime(int(stripped[2][:4]), int(stripped[0]), int(stripped[1]))\n",
    "        \n",
    "    except:\n",
    "        given_date = datetime.datetime(int(stripped[0]), int(stripped[1]), int(stripped[2][:2]))\n",
    "    return given_date\n",
    "        \n",
    "    \n",
    "def day_of_week(given_date):\n",
    "    day_num = given_date.weekday()\n",
    "    day = 'sunday'\n",
    "    if day_num == 0:\n",
    "        day = 'monday'\n",
    "    elif day_num == 1:\n",
    "        day = 'tuesday'\n",
    "    elif day_num == 2:\n",
    "        day = 'wednesday'\n",
    "    elif day_num == 3:\n",
    "        day = 'thursday'\n",
    "    elif day_num == 4:\n",
    "        day = 'friday'\n",
    "    elif day_num == 5:\n",
    "        day = 'saturday'\n",
    "    \n",
    "    return day\n",
    "\n",
    "def get_day(given_date):\n",
    "    return given_date.day\n",
    "\n",
    "def get_month(given_date):\n",
    "    return given_date.month\n",
    "\n",
    "def get_year(given_date):\n",
    "    return given_date.year"
   ]
  },
  {
   "cell_type": "markdown",
   "metadata": {},
   "source": [
    "** going to drop data_date once datasets are merged"
   ]
  },
  {
   "cell_type": "code",
   "execution_count": 78,
   "metadata": {},
   "outputs": [],
   "source": [
    "traffic_volume['DATA_DATE'] = traffic_volume['DATA_DATE'].apply(convert_date) #converting data date into datetime"
   ]
  },
  {
   "cell_type": "code",
   "execution_count": 79,
   "metadata": {},
   "outputs": [],
   "source": [
    "traffic_volume['DAY_WEEK'] = traffic_volume['DATA_DATE'].apply(day_of_week)\n",
    "traffic_volume['DAY'] = traffic_volume['DATA_DATE'].apply(get_day)\n",
    "traffic_volume['MONTH'] = traffic_volume['DATA_DATE'].apply(get_month)\n",
    "traffic_volume['YEAR'] = traffic_volume['DATA_DATE'].apply(get_year)"
   ]
  },
  {
   "cell_type": "code",
   "execution_count": 80,
   "metadata": {},
   "outputs": [
    {
     "name": "stdout",
     "output_type": "stream",
     "text": [
      "<class 'pandas.core.frame.DataFrame'>\n",
      "RangeIndex: 121679 entries, 0 to 121678\n",
      "Data columns (total 33 columns):\n",
      " #   Column                        Non-Null Count   Dtype         \n",
      "---  ------                        --------------   -----         \n",
      " 0   OBJECTID                      121679 non-null  int64         \n",
      " 1   LINKID                        121679 non-null  int64         \n",
      " 2   DATA_DATE                     121679 non-null  datetime64[ns]\n",
      " 3   ROUTE_COMMON_NAME             121679 non-null  object        \n",
      " 4   ROUTE_NAME                    121679 non-null  object        \n",
      " 5   HTRIS_ID                      120934 non-null  object        \n",
      " 6   ROUTE_ALIAS                   121679 non-null  object        \n",
      " 7   START_LABEL                   121679 non-null  object        \n",
      " 8   END_LABEL                     121679 non-null  object        \n",
      " 9   ADT                           121676 non-null  float64       \n",
      " 10  ADT_QUALITY                   121679 non-null  object        \n",
      " 11  CLASS_QUALITY_CODE            121679 non-null  object        \n",
      " 12  K_FACTOR_QUALITY_CODE         121616 non-null  object        \n",
      " 13  AAWDT_QUALITY_CODE            121673 non-null  object        \n",
      " 14  LOC_COMP_DIRECTIONALITY_NAME  121483 non-null  object        \n",
      " 15  ROUTE_FROM_MEASURE            121679 non-null  float64       \n",
      " 16  FROM_JURISDICTION             121660 non-null  object        \n",
      " 17  ROUTE_TO_MEASURE              121679 non-null  float64       \n",
      " 18  TO_JURISDICTION               121666 non-null  object        \n",
      " 19  EVENT_SOURCE_ID               121679 non-null  int64         \n",
      " 20  EVENT_LOCATION_ID             121679 non-null  int64         \n",
      " 21  EVENT_COMPONENT_ID            121679 non-null  int64         \n",
      " 22  MAXIMUMSCALEDENOMINATOR       121670 non-null  float64       \n",
      " 23  ROUTE_COMMON_NAME_ADT         121679 non-null  object        \n",
      " 24  FROM_DISTRICT                 121248 non-null  object        \n",
      " 25  TO_DISTRICT                   121135 non-null  object        \n",
      " 26  RTE_TYPE_CD                   121679 non-null  object        \n",
      " 27  RTE_ID                        121679 non-null  int64         \n",
      " 28  Shape__Length                 121540 non-null  float64       \n",
      " 29  DAY_WEEK                      121679 non-null  object        \n",
      " 30  DAY                           121679 non-null  int64         \n",
      " 31  MONTH                         121679 non-null  int64         \n",
      " 32  YEAR                          121679 non-null  int64         \n",
      "dtypes: datetime64[ns](1), float64(5), int64(9), object(18)\n",
      "memory usage: 30.6+ MB\n"
     ]
    }
   ],
   "source": [
    "traffic_volume.info()"
   ]
  },
  {
   "cell_type": "markdown",
   "metadata": {},
   "source": [
    "merge datasets BEFORE dropping"
   ]
  },
  {
   "cell_type": "code",
   "execution_count": null,
   "metadata": {},
   "outputs": [],
   "source": [
    "# merging\n",
    "new_df = pd.merge(\n",
    "    left=traffic_volume, \n",
    "    right=crashes,\n",
    "    how='left',\n",
    "    left_on=['DATA_DATE', 'ROUTE_NAME'],\n",
    "    right_on=['DATA_DATE', 'ROUTE_NAME']\n",
    ")"
   ]
  },
  {
   "cell_type": "markdown",
   "metadata": {},
   "source": [
    "dropping route identifiers, addresses, etc"
   ]
  },
  {
   "cell_type": "code",
   "execution_count": 62,
   "metadata": {},
   "outputs": [],
   "source": [
    "to_drop = ['ROUTE_COMMON_NAME', 'ROUTE_NAME', 'ROUTE_ALIAS', 'END_LABEL', 'START_LABEL', 'ADT_QUALITY', 'CLASS_QUALITY_CODE', 'K_FACTOR_QUALITY_CODE', 'AAWDT_QUALITY_CODE', 'MAXIMUMSCALEDENOMINATOR', 'ROUTE_COMMON_NAME_ADT']"
   ]
  },
  {
   "cell_type": "code",
   "execution_count": 63,
   "metadata": {},
   "outputs": [],
   "source": [
    "traffic_volume = traffic_volume.drop(columns=to_drop)"
   ]
  },
  {
   "cell_type": "code",
   "execution_count": 66,
   "metadata": {},
   "outputs": [],
   "source": [
    "traffic_volume = traffic_volume.drop(columns=['HTRIS_ID'])"
   ]
  },
  {
   "cell_type": "code",
   "execution_count": 67,
   "metadata": {},
   "outputs": [
    {
     "data": {
      "text/html": [
       "<div>\n",
       "<style scoped>\n",
       "    .dataframe tbody tr th:only-of-type {\n",
       "        vertical-align: middle;\n",
       "    }\n",
       "\n",
       "    .dataframe tbody tr th {\n",
       "        vertical-align: top;\n",
       "    }\n",
       "\n",
       "    .dataframe thead th {\n",
       "        text-align: right;\n",
       "    }\n",
       "</style>\n",
       "<table border=\"1\" class=\"dataframe\">\n",
       "  <thead>\n",
       "    <tr style=\"text-align: right;\">\n",
       "      <th></th>\n",
       "      <th>OBJECTID</th>\n",
       "      <th>LINKID</th>\n",
       "      <th>DATA_DATE</th>\n",
       "      <th>ADT</th>\n",
       "      <th>LOC_COMP_DIRECTIONALITY_NAME</th>\n",
       "      <th>ROUTE_FROM_MEASURE</th>\n",
       "      <th>FROM_JURISDICTION</th>\n",
       "      <th>ROUTE_TO_MEASURE</th>\n",
       "      <th>TO_JURISDICTION</th>\n",
       "      <th>EVENT_SOURCE_ID</th>\n",
       "      <th>...</th>\n",
       "      <th>EVENT_COMPONENT_ID</th>\n",
       "      <th>FROM_DISTRICT</th>\n",
       "      <th>TO_DISTRICT</th>\n",
       "      <th>RTE_TYPE_CD</th>\n",
       "      <th>RTE_ID</th>\n",
       "      <th>Shape__Length</th>\n",
       "      <th>DAY</th>\n",
       "      <th>DAY_WEEK</th>\n",
       "      <th>MONTH</th>\n",
       "      <th>YEAR</th>\n",
       "    </tr>\n",
       "  </thead>\n",
       "  <tbody>\n",
       "    <tr>\n",
       "      <th>0</th>\n",
       "      <td>1</td>\n",
       "      <td>795997</td>\n",
       "      <td>2011-06-07</td>\n",
       "      <td>490.0</td>\n",
       "      <td>Bidirectional</td>\n",
       "      <td>0.000</td>\n",
       "      <td>Frederick County</td>\n",
       "      <td>0.24</td>\n",
       "      <td>Frederick County</td>\n",
       "      <td>795997</td>\n",
       "      <td>...</td>\n",
       "      <td>1</td>\n",
       "      <td>Staunton</td>\n",
       "      <td>Staunton</td>\n",
       "      <td>SC</td>\n",
       "      <td>2532756</td>\n",
       "      <td>478.381712</td>\n",
       "      <td>7</td>\n",
       "      <td>tuesday</td>\n",
       "      <td>6</td>\n",
       "      <td>2011</td>\n",
       "    </tr>\n",
       "    <tr>\n",
       "      <th>1</th>\n",
       "      <td>2</td>\n",
       "      <td>709217</td>\n",
       "      <td>2019-12-10</td>\n",
       "      <td>10.0</td>\n",
       "      <td>Bidirectional</td>\n",
       "      <td>0.620</td>\n",
       "      <td>Campbell County</td>\n",
       "      <td>0.64</td>\n",
       "      <td>Campbell County</td>\n",
       "      <td>709217</td>\n",
       "      <td>...</td>\n",
       "      <td>1</td>\n",
       "      <td>Lynchburg</td>\n",
       "      <td>Lynchburg</td>\n",
       "      <td>SC</td>\n",
       "      <td>1733670</td>\n",
       "      <td>47.494224</td>\n",
       "      <td>10</td>\n",
       "      <td>tuesday</td>\n",
       "      <td>12</td>\n",
       "      <td>2019</td>\n",
       "    </tr>\n",
       "    <tr>\n",
       "      <th>2</th>\n",
       "      <td>3</td>\n",
       "      <td>720637</td>\n",
       "      <td>2021-11-29</td>\n",
       "      <td>150.0</td>\n",
       "      <td>Bidirectional</td>\n",
       "      <td>3.180</td>\n",
       "      <td>Dickenson County</td>\n",
       "      <td>7.55</td>\n",
       "      <td>Dickenson County</td>\n",
       "      <td>720637</td>\n",
       "      <td>...</td>\n",
       "      <td>1</td>\n",
       "      <td>Bristol</td>\n",
       "      <td>Bristol</td>\n",
       "      <td>SC</td>\n",
       "      <td>1857885</td>\n",
       "      <td>8693.982351</td>\n",
       "      <td>29</td>\n",
       "      <td>monday</td>\n",
       "      <td>11</td>\n",
       "      <td>2021</td>\n",
       "    </tr>\n",
       "    <tr>\n",
       "      <th>3</th>\n",
       "      <td>4</td>\n",
       "      <td>755648</td>\n",
       "      <td>2020-07-30</td>\n",
       "      <td>47.0</td>\n",
       "      <td>Bidirectional</td>\n",
       "      <td>2.000</td>\n",
       "      <td>Nelson County</td>\n",
       "      <td>5.40</td>\n",
       "      <td>Nelson County</td>\n",
       "      <td>755648</td>\n",
       "      <td>...</td>\n",
       "      <td>1</td>\n",
       "      <td>Lynchburg</td>\n",
       "      <td>Lynchburg</td>\n",
       "      <td>SC</td>\n",
       "      <td>2111709</td>\n",
       "      <td>6516.476138</td>\n",
       "      <td>30</td>\n",
       "      <td>thursday</td>\n",
       "      <td>7</td>\n",
       "      <td>2020</td>\n",
       "    </tr>\n",
       "    <tr>\n",
       "      <th>4</th>\n",
       "      <td>5</td>\n",
       "      <td>776797</td>\n",
       "      <td>2017-07-07</td>\n",
       "      <td>30.0</td>\n",
       "      <td>Bidirectional</td>\n",
       "      <td>2.031</td>\n",
       "      <td>Washington County</td>\n",
       "      <td>2.08</td>\n",
       "      <td>Washington County</td>\n",
       "      <td>776797</td>\n",
       "      <td>...</td>\n",
       "      <td>1</td>\n",
       "      <td>Bristol</td>\n",
       "      <td>Bristol</td>\n",
       "      <td>SC</td>\n",
       "      <td>1594318</td>\n",
       "      <td>100.504177</td>\n",
       "      <td>7</td>\n",
       "      <td>friday</td>\n",
       "      <td>7</td>\n",
       "      <td>2017</td>\n",
       "    </tr>\n",
       "  </tbody>\n",
       "</table>\n",
       "<p>5 rows × 21 columns</p>\n",
       "</div>"
      ],
      "text/plain": [
       "   OBJECTID  LINKID  DATA_DATE    ADT LOC_COMP_DIRECTIONALITY_NAME  \\\n",
       "0         1  795997 2011-06-07  490.0                Bidirectional   \n",
       "1         2  709217 2019-12-10   10.0                Bidirectional   \n",
       "2         3  720637 2021-11-29  150.0                Bidirectional   \n",
       "3         4  755648 2020-07-30   47.0                Bidirectional   \n",
       "4         5  776797 2017-07-07   30.0                Bidirectional   \n",
       "\n",
       "   ROUTE_FROM_MEASURE  FROM_JURISDICTION  ROUTE_TO_MEASURE    TO_JURISDICTION  \\\n",
       "0               0.000   Frederick County              0.24   Frederick County   \n",
       "1               0.620    Campbell County              0.64    Campbell County   \n",
       "2               3.180   Dickenson County              7.55   Dickenson County   \n",
       "3               2.000      Nelson County              5.40      Nelson County   \n",
       "4               2.031  Washington County              2.08  Washington County   \n",
       "\n",
       "   EVENT_SOURCE_ID  ...  EVENT_COMPONENT_ID  FROM_DISTRICT TO_DISTRICT  \\\n",
       "0           795997  ...                   1       Staunton    Staunton   \n",
       "1           709217  ...                   1      Lynchburg   Lynchburg   \n",
       "2           720637  ...                   1        Bristol     Bristol   \n",
       "3           755648  ...                   1      Lynchburg   Lynchburg   \n",
       "4           776797  ...                   1        Bristol     Bristol   \n",
       "\n",
       "  RTE_TYPE_CD   RTE_ID  Shape__Length  DAY  DAY_WEEK MONTH  YEAR  \n",
       "0          SC  2532756     478.381712    7   tuesday     6  2011  \n",
       "1          SC  1733670      47.494224   10   tuesday    12  2019  \n",
       "2          SC  1857885    8693.982351   29    monday    11  2021  \n",
       "3          SC  2111709    6516.476138   30  thursday     7  2020  \n",
       "4          SC  1594318     100.504177    7    friday     7  2017  \n",
       "\n",
       "[5 rows x 21 columns]"
      ]
     },
     "execution_count": 67,
     "metadata": {},
     "output_type": "execute_result"
    }
   ],
   "source": [
    "traffic_volume.head()"
   ]
  },
  {
   "cell_type": "code",
   "execution_count": 68,
   "metadata": {},
   "outputs": [
    {
     "name": "stdout",
     "output_type": "stream",
     "text": [
      "<class 'pandas.core.frame.DataFrame'>\n",
      "RangeIndex: 121679 entries, 0 to 121678\n",
      "Data columns (total 21 columns):\n",
      " #   Column                        Non-Null Count   Dtype         \n",
      "---  ------                        --------------   -----         \n",
      " 0   OBJECTID                      121679 non-null  int64         \n",
      " 1   LINKID                        121679 non-null  int64         \n",
      " 2   DATA_DATE                     121679 non-null  datetime64[ns]\n",
      " 3   ADT                           121676 non-null  float64       \n",
      " 4   LOC_COMP_DIRECTIONALITY_NAME  121483 non-null  object        \n",
      " 5   ROUTE_FROM_MEASURE            121679 non-null  float64       \n",
      " 6   FROM_JURISDICTION             121660 non-null  object        \n",
      " 7   ROUTE_TO_MEASURE              121679 non-null  float64       \n",
      " 8   TO_JURISDICTION               121666 non-null  object        \n",
      " 9   EVENT_SOURCE_ID               121679 non-null  int64         \n",
      " 10  EVENT_LOCATION_ID             121679 non-null  int64         \n",
      " 11  EVENT_COMPONENT_ID            121679 non-null  int64         \n",
      " 12  FROM_DISTRICT                 121248 non-null  object        \n",
      " 13  TO_DISTRICT                   121135 non-null  object        \n",
      " 14  RTE_TYPE_CD                   121679 non-null  object        \n",
      " 15  RTE_ID                        121679 non-null  int64         \n",
      " 16  Shape__Length                 121540 non-null  float64       \n",
      " 17  DAY                           121679 non-null  int64         \n",
      " 18  DAY_WEEK                      121679 non-null  object        \n",
      " 19  MONTH                         121679 non-null  int64         \n",
      " 20  YEAR                          121679 non-null  int64         \n",
      "dtypes: datetime64[ns](1), float64(4), int64(9), object(7)\n",
      "memory usage: 19.5+ MB\n"
     ]
    }
   ],
   "source": [
    "traffic_volume.info()"
   ]
  },
  {
   "cell_type": "code",
   "execution_count": 71,
   "metadata": {},
   "outputs": [
    {
     "name": "stdout",
     "output_type": "stream",
     "text": [
      "LOC_COMP_DIRECTIONALITY_NAME 4\n",
      "FROM_JURISDICTION 185\n",
      "TO_JURISDICTION 185\n",
      "FROM_DISTRICT 10\n",
      "TO_DISTRICT 10\n",
      "RTE_TYPE_CD 8\n",
      "DAY_WEEK 7\n"
     ]
    }
   ],
   "source": [
    "for feature in traffic_volume.select_dtypes(\"object\"):\n",
    "    print(feature, len(traffic_volume[feature].unique()))"
   ]
  }
 ],
 "metadata": {
  "kernelspec": {
   "display_name": "Python 3",
   "language": "python",
   "name": "python3"
  },
  "language_info": {
   "codemirror_mode": {
    "name": "ipython",
    "version": 3
   },
   "file_extension": ".py",
   "mimetype": "text/x-python",
   "name": "python",
   "nbconvert_exporter": "python",
   "pygments_lexer": "ipython3",
   "version": "3.10.6"
  }
 },
 "nbformat": 4,
 "nbformat_minor": 2
}
