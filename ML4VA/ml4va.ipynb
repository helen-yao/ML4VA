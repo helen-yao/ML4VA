{
 "cells": [
  {
   "cell_type": "markdown",
   "metadata": {},
   "source": [
    "ML4VA"
   ]
  },
  {
   "cell_type": "markdown",
   "metadata": {},
   "source": [
    "Helen Yao, Eva Butler, and Larissa Cybyk"
   ]
  },
  {
   "cell_type": "code",
   "execution_count": 32,
   "metadata": {},
   "outputs": [],
   "source": [
    "import pandas as pd\n",
    "import numpy as np"
   ]
  },
  {
   "cell_type": "code",
   "execution_count": 33,
   "metadata": {},
   "outputs": [],
   "source": [
    "# load data\n",
    "\n",
    "traffic_volume = pd.read_csv('./VDOT_Traffic_Volume.csv')\n"
   ]
  },
  {
   "cell_type": "code",
   "execution_count": 34,
   "metadata": {},
   "outputs": [
    {
     "data": {
      "text/plain": [
       "OBJECTID                             0\n",
       "LINKID                               0\n",
       "DATA_DATE                            0\n",
       "ROUTE_COMMON_NAME                    0\n",
       "ROUTE_NAME                           0\n",
       "HTRIS_ID                           745\n",
       "ROUTE_ALIAS                          0\n",
       "START_LABEL                          0\n",
       "END_LABEL                            0\n",
       "ADT                                  3\n",
       "ADT_QUALITY                          0\n",
       "PERCENT_4_TIRE                   94712\n",
       "PERCENT_BUS                      94712\n",
       "PERCENT_TRUCK_2_AXLE             94712\n",
       "PERCENT_TRUCK_3_AXLE             94712\n",
       "PERCENT_TRUCK_1_TRAIL            94712\n",
       "PERCENT_TRUCK_2_TRAIL            94712\n",
       "CLASS_QUALITY_CODE                   0\n",
       "K_FACTOR                         92351\n",
       "K_FACTOR_QUALITY_CODE               63\n",
       "DIRECTION_FACTOR                 92371\n",
       "AAWDT                            91950\n",
       "AAWDT_QUALITY_CODE                   6\n",
       "LOC_COMP_DIRECTIONALITY_NAME       196\n",
       "ROUTE_FROM_MEASURE                   0\n",
       "FROM_JURISDICTION                   19\n",
       "ROUTE_TO_MEASURE                     0\n",
       "TO_JURISDICTION                     13\n",
       "PEAK_SINGLE_UNIT_TRUCK           95865\n",
       "PEAK_COMBINATION_TRUCK           95865\n",
       "EVENT_SOURCE_ID                      0\n",
       "EVENT_LOCATION_ID                    0\n",
       "EVENT_COMPONENT_ID                   0\n",
       "MAXIMUMSCALEDENOMINATOR              9\n",
       "ROUTE_COMMON_NAME_ADT                0\n",
       "FROM_DISTRICT                      431\n",
       "TO_DISTRICT                        544\n",
       "RTE_TYPE_CD                          0\n",
       "RTE_ID                               0\n",
       "DATA_CUSTODIAN_EMAIL            121679\n",
       "METADATA_URL                    121679\n",
       "Shape__Length                      139\n",
       "dtype: int64"
      ]
     },
     "execution_count": 34,
     "metadata": {},
     "output_type": "execute_result"
    }
   ],
   "source": [
    "traffic_volume.head()\n",
    "traffic_volume.isnull().sum()"
   ]
  },
  {
   "cell_type": "code",
   "execution_count": 35,
   "metadata": {},
   "outputs": [],
   "source": [
    "\n",
    "crash_data = pd.read_csv('./CrashData_test.csv')"
   ]
  },
  {
   "cell_type": "code",
   "execution_count": 36,
   "metadata": {},
   "outputs": [
    {
     "name": "stdout",
     "output_type": "stream",
     "text": [
      "                      RTE Name Crash Date  Total Crashes\n",
      "0             R-VA   IS00095NB 2016-12-06             15\n",
      "1        S-VA114NP WOODLAND RD 2016-01-26              1\n",
      "2             R-VA066SC00640NB 2016-02-13              1\n",
      "3             R-VA042SC00782SB 2016-03-26              1\n",
      "4             R-VA   US00220NB 2016-07-18              1\n",
      "...                        ...        ...            ...\n",
      "1071754       R-VA020SC00906SB 2024-08-16              1\n",
      "1071755       R-VA   IS00264WB 2024-05-03              1\n",
      "1071757       R-VA014SC00650EB 2024-08-25              1\n",
      "1071759       R-VA029SC00613SB 2024-08-28              1\n",
      "1071760       R-VA   US00221SB 2024-08-29              1\n",
      "\n",
      "[778666 rows x 3 columns]\n"
     ]
    }
   ],
   "source": [
    "import datetime\n",
    "# crash_data.head()\n",
    "\n",
    "# crash_data.isnull().sum()\n",
    "\n",
    "crash_data = crash_data[['RTE Name','Crash Date']]\n",
    "\n",
    "# print(crash_data)\n",
    "\n",
    "crash_data['Crash Date'] = pd.to_datetime(crash_data['Crash Date'].str.split(' ', expand=True)[0], format='%m/%d/%Y')\n",
    "\n",
    "\n",
    "duplicate = crash_data.pivot_table(index = ['RTE Name', 'Crash Date'], aggfunc ='size')\n",
    "\n",
    "crash_data['Total Crashes'] = crash_data.set_index(['RTE Name', 'Crash Date']).index.map(duplicate)\n",
    "\n",
    "crash_data = crash_data.drop_duplicates()\n",
    "print(crash_data)\n",
    "\n",
    "# f = open(\"crash_data.csv\", \"a\")\n",
    "crash_data.to_csv(\"crash_data.csv\", sep='\\t', encoding='utf-8')\n",
    "# f.close()\n",
    "\n"
   ]
  }
 ],
 "metadata": {
  "kernelspec": {
   "display_name": "Python 3",
   "language": "python",
   "name": "python3"
  },
  "language_info": {
   "codemirror_mode": {
    "name": "ipython",
    "version": 3
   },
   "file_extension": ".py",
   "mimetype": "text/x-python",
   "name": "python",
   "nbconvert_exporter": "python",
   "pygments_lexer": "ipython3",
   "version": "3.12.3"
  }
 },
 "nbformat": 4,
 "nbformat_minor": 2
}
