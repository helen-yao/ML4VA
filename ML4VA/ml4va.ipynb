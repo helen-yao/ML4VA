{
 "cells": [
  {
   "cell_type": "markdown",
   "metadata": {},
   "source": [
    "ML4VA"
   ]
  },
  {
   "cell_type": "markdown",
   "metadata": {},
   "source": [
    "Helen Yao, Eva Butler, and Larissa Cybyk"
   ]
  },
  {
   "cell_type": "code",
   "execution_count": 1,
   "metadata": {},
   "outputs": [
    {
     "name": "stderr",
     "output_type": "stream",
     "text": [
      "C:\\Users\\l3n3c\\AppData\\Local\\Temp\\ipykernel_50240\\2162656668.py:1: DeprecationWarning: \n",
      "Pyarrow will become a required dependency of pandas in the next major release of pandas (pandas 3.0),\n",
      "(to allow more performant data types, such as the Arrow string type, and better interoperability with other libraries)\n",
      "but was not found to be installed on your system.\n",
      "If this would cause problems for you,\n",
      "please provide us feedback at https://github.com/pandas-dev/pandas/issues/54466\n",
      "        \n",
      "  import pandas as pd\n"
     ]
    }
   ],
   "source": [
    "import pandas as pd\n",
    "import numpy as np"
   ]
  },
  {
   "cell_type": "code",
   "execution_count": 2,
   "metadata": {},
   "outputs": [],
   "source": [
    "# load data\n",
    "\n",
    "traffic_volume = pd.read_csv('./VDOT_Traffic_Volume.csv')"
   ]
  },
  {
   "cell_type": "code",
   "execution_count": 5,
   "metadata": {},
   "outputs": [
    {
     "data": {
      "text/plain": [
       "OBJECTID                             0\n",
       "LINKID                               0\n",
       "DATA_DATE                            0\n",
       "ROUTE_COMMON_NAME                    0\n",
       "ROUTE_NAME                           0\n",
       "HTRIS_ID                           745\n",
       "ROUTE_ALIAS                          0\n",
       "START_LABEL                          0\n",
       "END_LABEL                            0\n",
       "ADT                                  3\n",
       "ADT_QUALITY                          0\n",
       "PERCENT_4_TIRE                   94712\n",
       "PERCENT_BUS                      94712\n",
       "PERCENT_TRUCK_2_AXLE             94712\n",
       "PERCENT_TRUCK_3_AXLE             94712\n",
       "PERCENT_TRUCK_1_TRAIL            94712\n",
       "PERCENT_TRUCK_2_TRAIL            94712\n",
       "CLASS_QUALITY_CODE                   0\n",
       "K_FACTOR                         92351\n",
       "K_FACTOR_QUALITY_CODE               63\n",
       "DIRECTION_FACTOR                 92371\n",
       "AAWDT                            91950\n",
       "AAWDT_QUALITY_CODE                   6\n",
       "LOC_COMP_DIRECTIONALITY_NAME       196\n",
       "ROUTE_FROM_MEASURE                   0\n",
       "FROM_JURISDICTION                   19\n",
       "ROUTE_TO_MEASURE                     0\n",
       "TO_JURISDICTION                     13\n",
       "PEAK_SINGLE_UNIT_TRUCK           95865\n",
       "PEAK_COMBINATION_TRUCK           95865\n",
       "EVENT_SOURCE_ID                      0\n",
       "EVENT_LOCATION_ID                    0\n",
       "EVENT_COMPONENT_ID                   0\n",
       "MAXIMUMSCALEDENOMINATOR              9\n",
       "ROUTE_COMMON_NAME_ADT                0\n",
       "FROM_DISTRICT                      431\n",
       "TO_DISTRICT                        544\n",
       "RTE_TYPE_CD                          0\n",
       "RTE_ID                               0\n",
       "DATA_CUSTODIAN_EMAIL            121679\n",
       "METADATA_URL                    121679\n",
       "Shape__Length                      139\n",
       "dtype: int64"
      ]
     },
     "execution_count": 5,
     "metadata": {},
     "output_type": "execute_result"
    }
   ],
   "source": [
    "traffic_volume.head()\n",
    "traffic_volume.isnull().sum()"
   ]
  }
 ],
 "metadata": {
  "kernelspec": {
   "display_name": "Python 3",
   "language": "python",
   "name": "python3"
  },
  "language_info": {
   "codemirror_mode": {
    "name": "ipython",
    "version": 3
   },
   "file_extension": ".py",
   "mimetype": "text/x-python",
   "name": "python",
   "nbconvert_exporter": "python",
   "pygments_lexer": "ipython3",
   "version": "3.10.6"
  }
 },
 "nbformat": 4,
 "nbformat_minor": 2
}
