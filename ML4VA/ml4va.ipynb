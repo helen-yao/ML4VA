{
 "cells": [
  {
   "cell_type": "markdown",
   "metadata": {},
   "source": [
    "ML4VA"
   ]
  },
  {
   "cell_type": "markdown",
   "metadata": {},
   "source": [
    "Helen Yao, Eva Butler, and Larissa Cybyk"
   ]
  },
  {
   "cell_type": "code",
   "execution_count": 1,
   "metadata": {},
   "outputs": [
    {
     "name": "stderr",
     "output_type": "stream",
     "text": [
      "C:\\Users\\l3n3c\\AppData\\Local\\Temp\\ipykernel_14936\\2162656668.py:1: DeprecationWarning: \n",
      "Pyarrow will become a required dependency of pandas in the next major release of pandas (pandas 3.0),\n",
      "(to allow more performant data types, such as the Arrow string type, and better interoperability with other libraries)\n",
      "but was not found to be installed on your system.\n",
      "If this would cause problems for you,\n",
      "please provide us feedback at https://github.com/pandas-dev/pandas/issues/54466\n",
      "        \n",
      "  import pandas as pd\n"
     ]
    }
   ],
   "source": [
    "import pandas as pd\n",
    "import numpy as np"
   ]
  },
  {
   "cell_type": "markdown",
   "metadata": {},
   "source": [
    "Data Cleaning & Visualization"
   ]
  },
  {
   "cell_type": "markdown",
   "metadata": {},
   "source": [
    "loading/condensing crash data:"
   ]
  },
  {
   "cell_type": "code",
   "execution_count": 4,
   "metadata": {},
   "outputs": [],
   "source": [
    "import datetime\n",
    "try:\n",
    "    crash_data = pd.read_csv('./crash_data.csv', sep='\\t')\n",
    "except:\n",
    "\n",
    "    crash_data = pd.read_csv('./CrashData_test.csv')\n",
    "    # crash_data.head()\n",
    "\n",
    "    # crash_data.isnull().sum()\n",
    "\n",
    "    crash_data = crash_data[['RTE Name','Crash Date']]\n",
    "\n",
    "    # print(crash_data)\n",
    "\n",
    "    crash_data['Crash Date'] = pd.to_datetime(crash_data['Crash Date'].str.split(' ', expand=True)[0], format='%m/%d/%Y')\n",
    "\n",
    "\n",
    "    duplicate = crash_data.pivot_table(index = ['RTE Name', 'Crash Date'], aggfunc ='size')\n",
    "\n",
    "    crash_data['Total Crashes'] = crash_data.set_index(['RTE Name', 'Crash Date']).index.map(duplicate)\n",
    "\n",
    "    crash_data = crash_data.drop_duplicates()\n",
    "    print(crash_data)\n",
    "\n",
    "    # f = open(\"crash_data.csv\", \"a\")\n",
    "    crash_data.to_csv(\"crash_data.csv\", sep='\\t', encoding='utf-8')\n",
    "    # f.close()"
   ]
  },
  {
   "cell_type": "code",
   "execution_count": 5,
   "metadata": {},
   "outputs": [
    {
     "data": {
      "text/html": [
       "<div>\n",
       "<style scoped>\n",
       "    .dataframe tbody tr th:only-of-type {\n",
       "        vertical-align: middle;\n",
       "    }\n",
       "\n",
       "    .dataframe tbody tr th {\n",
       "        vertical-align: top;\n",
       "    }\n",
       "\n",
       "    .dataframe thead th {\n",
       "        text-align: right;\n",
       "    }\n",
       "</style>\n",
       "<table border=\"1\" class=\"dataframe\">\n",
       "  <thead>\n",
       "    <tr style=\"text-align: right;\">\n",
       "      <th></th>\n",
       "      <th>Unnamed: 0</th>\n",
       "      <th>RTE Name</th>\n",
       "      <th>Crash Date</th>\n",
       "      <th>Total Crashes</th>\n",
       "    </tr>\n",
       "  </thead>\n",
       "  <tbody>\n",
       "    <tr>\n",
       "      <th>0</th>\n",
       "      <td>0</td>\n",
       "      <td>R-VA   IS00095NB</td>\n",
       "      <td>2016-12-06</td>\n",
       "      <td>15</td>\n",
       "    </tr>\n",
       "    <tr>\n",
       "      <th>1</th>\n",
       "      <td>1</td>\n",
       "      <td>S-VA114NP WOODLAND RD</td>\n",
       "      <td>2016-01-26</td>\n",
       "      <td>1</td>\n",
       "    </tr>\n",
       "    <tr>\n",
       "      <th>2</th>\n",
       "      <td>2</td>\n",
       "      <td>R-VA066SC00640NB</td>\n",
       "      <td>2016-02-13</td>\n",
       "      <td>1</td>\n",
       "    </tr>\n",
       "    <tr>\n",
       "      <th>3</th>\n",
       "      <td>3</td>\n",
       "      <td>R-VA042SC00782SB</td>\n",
       "      <td>2016-03-26</td>\n",
       "      <td>1</td>\n",
       "    </tr>\n",
       "    <tr>\n",
       "      <th>4</th>\n",
       "      <td>4</td>\n",
       "      <td>R-VA   US00220NB</td>\n",
       "      <td>2016-07-18</td>\n",
       "      <td>1</td>\n",
       "    </tr>\n",
       "  </tbody>\n",
       "</table>\n",
       "</div>"
      ],
      "text/plain": [
       "   Unnamed: 0               RTE Name  Crash Date  Total Crashes\n",
       "0           0       R-VA   IS00095NB  2016-12-06             15\n",
       "1           1  S-VA114NP WOODLAND RD  2016-01-26              1\n",
       "2           2       R-VA066SC00640NB  2016-02-13              1\n",
       "3           3       R-VA042SC00782SB  2016-03-26              1\n",
       "4           4       R-VA   US00220NB  2016-07-18              1"
      ]
     },
     "execution_count": 5,
     "metadata": {},
     "output_type": "execute_result"
    }
   ],
   "source": [
    "crash_data.head()"
   ]
  },
  {
   "cell_type": "markdown",
   "metadata": {},
   "source": [
    "loading/cleaning traffic volume data:"
   ]
  },
  {
   "cell_type": "code",
   "execution_count": 6,
   "metadata": {},
   "outputs": [],
   "source": [
    "# load data\n",
    "\n",
    "traffic_volume = pd.read_csv('./VDOT_Traffic_Volume.csv')"
   ]
  },
  {
   "cell_type": "code",
   "execution_count": 7,
   "metadata": {},
   "outputs": [
    {
     "name": "stdout",
     "output_type": "stream",
     "text": [
      "(121679, 42)\n",
      "OBJECTID                             0\n",
      "LINKID                               0\n",
      "DATA_DATE                            0\n",
      "ROUTE_COMMON_NAME                    0\n",
      "ROUTE_NAME                           0\n",
      "HTRIS_ID                           745\n",
      "ROUTE_ALIAS                          0\n",
      "START_LABEL                          0\n",
      "END_LABEL                            0\n",
      "ADT                                  3\n",
      "ADT_QUALITY                          0\n",
      "PERCENT_4_TIRE                   94712\n",
      "PERCENT_BUS                      94712\n",
      "PERCENT_TRUCK_2_AXLE             94712\n",
      "PERCENT_TRUCK_3_AXLE             94712\n",
      "PERCENT_TRUCK_1_TRAIL            94712\n",
      "PERCENT_TRUCK_2_TRAIL            94712\n",
      "CLASS_QUALITY_CODE                   0\n",
      "K_FACTOR                         92351\n",
      "K_FACTOR_QUALITY_CODE               63\n",
      "DIRECTION_FACTOR                 92371\n",
      "AAWDT                            91950\n",
      "AAWDT_QUALITY_CODE                   6\n",
      "LOC_COMP_DIRECTIONALITY_NAME       196\n",
      "ROUTE_FROM_MEASURE                   0\n",
      "FROM_JURISDICTION                   19\n",
      "ROUTE_TO_MEASURE                     0\n",
      "TO_JURISDICTION                     13\n",
      "PEAK_SINGLE_UNIT_TRUCK           95865\n",
      "PEAK_COMBINATION_TRUCK           95865\n",
      "EVENT_SOURCE_ID                      0\n",
      "EVENT_LOCATION_ID                    0\n",
      "EVENT_COMPONENT_ID                   0\n",
      "MAXIMUMSCALEDENOMINATOR              9\n",
      "ROUTE_COMMON_NAME_ADT                0\n",
      "FROM_DISTRICT                      431\n",
      "TO_DISTRICT                        544\n",
      "RTE_TYPE_CD                          0\n",
      "RTE_ID                               0\n",
      "DATA_CUSTODIAN_EMAIL            121679\n",
      "METADATA_URL                    121679\n",
      "Shape__Length                      139\n",
      "dtype: int64\n"
     ]
    }
   ],
   "source": [
    "traffic_volume.head()\n",
    "\n",
    "traffic_volume.columns\n",
    "print(traffic_volume.shape)\n",
    "nulls = traffic_volume.isnull().sum()\n",
    "print(nulls)"
   ]
  },
  {
   "cell_type": "code",
   "execution_count": 8,
   "metadata": {},
   "outputs": [
    {
     "name": "stdout",
     "output_type": "stream",
     "text": [
      "['PERCENT_4_TIRE', 'PERCENT_BUS', 'PERCENT_TRUCK_2_AXLE', 'PERCENT_TRUCK_3_AXLE', 'PERCENT_TRUCK_1_TRAIL', 'PERCENT_TRUCK_2_TRAIL', 'K_FACTOR', 'DIRECTION_FACTOR', 'AAWDT', 'PEAK_SINGLE_UNIT_TRUCK', 'PEAK_COMBINATION_TRUCK', 'DATA_CUSTODIAN_EMAIL', 'METADATA_URL']\n"
     ]
    }
   ],
   "source": [
    "# dropping null columns / columns with a lot of missing data\n",
    "\n",
    "to_drop = []\n",
    "for col in traffic_volume.columns:\n",
    "    if nulls[col] > 90000:\n",
    "        to_drop.append(col)\n",
    "print(to_drop)\n",
    "traffic_volume = traffic_volume.drop(columns=to_drop)"
   ]
  },
  {
   "cell_type": "code",
   "execution_count": 9,
   "metadata": {},
   "outputs": [
    {
     "data": {
      "text/plain": [
       "OBJECTID                          0\n",
       "LINKID                            0\n",
       "DATA_DATE                         0\n",
       "ROUTE_COMMON_NAME                 0\n",
       "ROUTE_NAME                        0\n",
       "HTRIS_ID                        745\n",
       "ROUTE_ALIAS                       0\n",
       "START_LABEL                       0\n",
       "END_LABEL                         0\n",
       "ADT                               3\n",
       "ADT_QUALITY                       0\n",
       "CLASS_QUALITY_CODE                0\n",
       "K_FACTOR_QUALITY_CODE            63\n",
       "AAWDT_QUALITY_CODE                6\n",
       "LOC_COMP_DIRECTIONALITY_NAME    196\n",
       "ROUTE_FROM_MEASURE                0\n",
       "FROM_JURISDICTION                19\n",
       "ROUTE_TO_MEASURE                  0\n",
       "TO_JURISDICTION                  13\n",
       "EVENT_SOURCE_ID                   0\n",
       "EVENT_LOCATION_ID                 0\n",
       "EVENT_COMPONENT_ID                0\n",
       "MAXIMUMSCALEDENOMINATOR           9\n",
       "ROUTE_COMMON_NAME_ADT             0\n",
       "FROM_DISTRICT                   431\n",
       "TO_DISTRICT                     544\n",
       "RTE_TYPE_CD                       0\n",
       "RTE_ID                            0\n",
       "Shape__Length                   139\n",
       "dtype: int64"
      ]
     },
     "execution_count": 9,
     "metadata": {},
     "output_type": "execute_result"
    }
   ],
   "source": [
    "traffic_volume.isnull().sum()"
   ]
  },
  {
   "cell_type": "code",
   "execution_count": 19,
   "metadata": {},
   "outputs": [],
   "source": [
    "# adding day of week feature\n",
    "import re\n",
    "import calendar\n",
    "\n",
    "def convert_date(date, delim='/'):\n",
    "    stripped = date.split(delim)\n",
    "    try:\n",
    "        given_date = datetime.datetime(int(stripped[2][:4]), int(stripped[0]), int(stripped[1]))\n",
    "        \n",
    "    except:\n",
    "        given_date = datetime.datetime(int(stripped[0]), int(stripped[1]), int(stripped[2][:2]))\n",
    "    return given_date\n",
    "        \n",
    "    \n",
    "def day_of_week(given_date):\n",
    "    day_num = given_date.weekday()\n",
    "    day = 'sunday'\n",
    "    if day_num == 0:\n",
    "        day = 'monday'\n",
    "    elif day_num == 1:\n",
    "        day = 'tuesday'\n",
    "    elif day_num == 2:\n",
    "        day = 'wednesday'\n",
    "    elif day_num == 3:\n",
    "        day = 'thursday'\n",
    "    elif day_num == 4:\n",
    "        day = 'friday'\n",
    "    elif day_num == 5:\n",
    "        day = 'saturday'\n",
    "    \n",
    "    return day\n",
    "\n",
    "def get_day(given_date):\n",
    "    return given_date.day\n",
    "\n",
    "def get_month(given_date):\n",
    "    return given_date.month\n",
    "\n",
    "def get_year(given_date):\n",
    "    return given_date.year"
   ]
  },
  {
   "cell_type": "markdown",
   "metadata": {},
   "source": [
    "** going to drop data_date once datasets are merged"
   ]
  },
  {
   "cell_type": "code",
   "execution_count": 11,
   "metadata": {},
   "outputs": [],
   "source": [
    "traffic_volume['DATA_DATE'] = traffic_volume['DATA_DATE'].apply(convert_date) #converting data date into datetime"
   ]
  },
  {
   "cell_type": "code",
   "execution_count": 12,
   "metadata": {},
   "outputs": [],
   "source": [
    "traffic_volume['DAY_WEEK'] = traffic_volume['DATA_DATE'].apply(day_of_week)\n",
    "traffic_volume['DAY'] = traffic_volume['DATA_DATE'].apply(get_day)\n",
    "traffic_volume['MONTH'] = traffic_volume['DATA_DATE'].apply(get_month)\n",
    "traffic_volume['YEAR'] = traffic_volume['DATA_DATE'].apply(get_year)"
   ]
  },
  {
   "cell_type": "code",
   "execution_count": 13,
   "metadata": {},
   "outputs": [
    {
     "name": "stdout",
     "output_type": "stream",
     "text": [
      "<class 'pandas.core.frame.DataFrame'>\n",
      "RangeIndex: 121679 entries, 0 to 121678\n",
      "Data columns (total 33 columns):\n",
      " #   Column                        Non-Null Count   Dtype         \n",
      "---  ------                        --------------   -----         \n",
      " 0   OBJECTID                      121679 non-null  int64         \n",
      " 1   LINKID                        121679 non-null  int64         \n",
      " 2   DATA_DATE                     121679 non-null  datetime64[ns]\n",
      " 3   ROUTE_COMMON_NAME             121679 non-null  object        \n",
      " 4   ROUTE_NAME                    121679 non-null  object        \n",
      " 5   HTRIS_ID                      120934 non-null  object        \n",
      " 6   ROUTE_ALIAS                   121679 non-null  object        \n",
      " 7   START_LABEL                   121679 non-null  object        \n",
      " 8   END_LABEL                     121679 non-null  object        \n",
      " 9   ADT                           121676 non-null  float64       \n",
      " 10  ADT_QUALITY                   121679 non-null  object        \n",
      " 11  CLASS_QUALITY_CODE            121679 non-null  object        \n",
      " 12  K_FACTOR_QUALITY_CODE         121616 non-null  object        \n",
      " 13  AAWDT_QUALITY_CODE            121673 non-null  object        \n",
      " 14  LOC_COMP_DIRECTIONALITY_NAME  121483 non-null  object        \n",
      " 15  ROUTE_FROM_MEASURE            121679 non-null  float64       \n",
      " 16  FROM_JURISDICTION             121660 non-null  object        \n",
      " 17  ROUTE_TO_MEASURE              121679 non-null  float64       \n",
      " 18  TO_JURISDICTION               121666 non-null  object        \n",
      " 19  EVENT_SOURCE_ID               121679 non-null  int64         \n",
      " 20  EVENT_LOCATION_ID             121679 non-null  int64         \n",
      " 21  EVENT_COMPONENT_ID            121679 non-null  int64         \n",
      " 22  MAXIMUMSCALEDENOMINATOR       121670 non-null  float64       \n",
      " 23  ROUTE_COMMON_NAME_ADT         121679 non-null  object        \n",
      " 24  FROM_DISTRICT                 121248 non-null  object        \n",
      " 25  TO_DISTRICT                   121135 non-null  object        \n",
      " 26  RTE_TYPE_CD                   121679 non-null  object        \n",
      " 27  RTE_ID                        121679 non-null  int64         \n",
      " 28  Shape__Length                 121540 non-null  float64       \n",
      " 29  DAY_WEEK                      121679 non-null  object        \n",
      " 30  DAY                           121679 non-null  int64         \n",
      " 31  MONTH                         121679 non-null  int64         \n",
      " 32  YEAR                          121679 non-null  int64         \n",
      "dtypes: datetime64[ns](1), float64(5), int64(9), object(18)\n",
      "memory usage: 30.6+ MB\n"
     ]
    }
   ],
   "source": [
    "traffic_volume.info()"
   ]
  },
  {
   "cell_type": "markdown",
   "metadata": {},
   "source": [
    "merge datasets BEFORE dropping"
   ]
  },
  {
   "cell_type": "code",
   "execution_count": 16,
   "metadata": {},
   "outputs": [
    {
     "name": "stdout",
     "output_type": "stream",
     "text": [
      "<class 'pandas.core.frame.DataFrame'>\n",
      "RangeIndex: 778666 entries, 0 to 778665\n",
      "Data columns (total 4 columns):\n",
      " #   Column         Non-Null Count   Dtype \n",
      "---  ------         --------------   ----- \n",
      " 0   Unnamed: 0     778666 non-null  int64 \n",
      " 1   RTE Name       778666 non-null  object\n",
      " 2   Crash Date     778666 non-null  object\n",
      " 3   Total Crashes  778666 non-null  int64 \n",
      "dtypes: int64(2), object(2)\n",
      "memory usage: 23.8+ MB\n"
     ]
    }
   ],
   "source": [
    "crash_data.info()"
   ]
  },
  {
   "cell_type": "code",
   "execution_count": 29,
   "metadata": {},
   "outputs": [
    {
     "data": {
      "text/plain": [
       "pandas._libs.tslibs.timestamps.Timestamp"
      ]
     },
     "execution_count": 29,
     "metadata": {},
     "output_type": "execute_result"
    }
   ],
   "source": [
    "type(crash_data['Crash Date'].unique()[0])"
   ]
  },
  {
   "cell_type": "code",
   "execution_count": 30,
   "metadata": {},
   "outputs": [],
   "source": [
    "def convert_crash_date(date):\n",
    "    if type(date) == pd._libs.tslibs.timestamps.Timestamp:\n",
    "        return date\n",
    "    stripped = date.split('-')\n",
    "    try:\n",
    "        given_date = datetime.datetime(int(stripped[2][:4]), int(stripped[0]), int(stripped[1]))\n",
    "        \n",
    "    except:\n",
    "        given_date = datetime.datetime(int(stripped[0]), int(stripped[1]), int(stripped[2][:2]))\n",
    "    return given_date"
   ]
  },
  {
   "cell_type": "code",
   "execution_count": 31,
   "metadata": {},
   "outputs": [],
   "source": [
    "crash_data['Crash Date'] = crash_data['Crash Date'].apply(convert_crash_date)"
   ]
  },
  {
   "cell_type": "code",
   "execution_count": 35,
   "metadata": {},
   "outputs": [
    {
     "data": {
      "text/html": [
       "<div>\n",
       "<style scoped>\n",
       "    .dataframe tbody tr th:only-of-type {\n",
       "        vertical-align: middle;\n",
       "    }\n",
       "\n",
       "    .dataframe tbody tr th {\n",
       "        vertical-align: top;\n",
       "    }\n",
       "\n",
       "    .dataframe thead th {\n",
       "        text-align: right;\n",
       "    }\n",
       "</style>\n",
       "<table border=\"1\" class=\"dataframe\">\n",
       "  <thead>\n",
       "    <tr style=\"text-align: right;\">\n",
       "      <th></th>\n",
       "      <th>Unnamed: 0</th>\n",
       "      <th>RTE Name</th>\n",
       "      <th>Crash Date</th>\n",
       "      <th>Total Crashes</th>\n",
       "    </tr>\n",
       "  </thead>\n",
       "  <tbody>\n",
       "    <tr>\n",
       "      <th>0</th>\n",
       "      <td>0</td>\n",
       "      <td>R-VA   IS00095NB</td>\n",
       "      <td>2016-12-06</td>\n",
       "      <td>15</td>\n",
       "    </tr>\n",
       "    <tr>\n",
       "      <th>1</th>\n",
       "      <td>1</td>\n",
       "      <td>S-VA114NP WOODLAND RD</td>\n",
       "      <td>2016-01-26</td>\n",
       "      <td>1</td>\n",
       "    </tr>\n",
       "    <tr>\n",
       "      <th>2</th>\n",
       "      <td>2</td>\n",
       "      <td>R-VA066SC00640NB</td>\n",
       "      <td>2016-02-13</td>\n",
       "      <td>1</td>\n",
       "    </tr>\n",
       "    <tr>\n",
       "      <th>3</th>\n",
       "      <td>3</td>\n",
       "      <td>R-VA042SC00782SB</td>\n",
       "      <td>2016-03-26</td>\n",
       "      <td>1</td>\n",
       "    </tr>\n",
       "    <tr>\n",
       "      <th>4</th>\n",
       "      <td>4</td>\n",
       "      <td>R-VA   US00220NB</td>\n",
       "      <td>2016-07-18</td>\n",
       "      <td>1</td>\n",
       "    </tr>\n",
       "  </tbody>\n",
       "</table>\n",
       "</div>"
      ],
      "text/plain": [
       "   Unnamed: 0               RTE Name Crash Date  Total Crashes\n",
       "0           0       R-VA   IS00095NB 2016-12-06             15\n",
       "1           1  S-VA114NP WOODLAND RD 2016-01-26              1\n",
       "2           2       R-VA066SC00640NB 2016-02-13              1\n",
       "3           3       R-VA042SC00782SB 2016-03-26              1\n",
       "4           4       R-VA   US00220NB 2016-07-18              1"
      ]
     },
     "execution_count": 35,
     "metadata": {},
     "output_type": "execute_result"
    }
   ],
   "source": [
    "crash_data.head()"
   ]
  },
  {
   "cell_type": "code",
   "execution_count": 32,
   "metadata": {},
   "outputs": [],
   "source": [
    "# merging\n",
    "new_df = pd.merge(\n",
    "    left=traffic_volume, \n",
    "    right=crash_data,\n",
    "    how='left',\n",
    "    left_on=['DATA_DATE', 'ROUTE_NAME'],\n",
    "    right_on=['Crash Date', 'RTE Name']\n",
    ")"
   ]
  },
  {
   "cell_type": "code",
   "execution_count": null,
   "metadata": {},
   "outputs": [
    {
     "data": {
      "text/plain": [
       "2902"
      ]
     },
     "execution_count": 53,
     "metadata": {},
     "output_type": "execute_result"
    }
   ],
   "source": [
    "len(traffic_volume['DATA_DATE'].unique()) #2902 dates in traffic volume data"
   ]
  },
  {
   "cell_type": "code",
   "execution_count": null,
   "metadata": {},
   "outputs": [
    {
     "data": {
      "text/plain": [
       "3166"
      ]
     },
     "execution_count": 54,
     "metadata": {},
     "output_type": "execute_result"
    }
   ],
   "source": [
    "len(crash_data['Crash Date'].unique()) #3166 dates in traffic volume data"
   ]
  },
  {
   "cell_type": "code",
   "execution_count": 46,
   "metadata": {},
   "outputs": [
    {
     "data": {
      "text/plain": [
       "1266"
      ]
     },
     "execution_count": 46,
     "metadata": {},
     "output_type": "execute_result"
    }
   ],
   "source": [
    "len(set(traffic_volume['DATA_DATE']).intersection(crash_data['Crash Date'])) # only 1266 dates that overlap"
   ]
  },
  {
   "cell_type": "code",
   "execution_count": 55,
   "metadata": {},
   "outputs": [
    {
     "data": {
      "text/plain": [
       "64941"
      ]
     },
     "execution_count": 55,
     "metadata": {},
     "output_type": "execute_result"
    }
   ],
   "source": [
    "len(traffic_volume['ROUTE_NAME'].unique())"
   ]
  },
  {
   "cell_type": "code",
   "execution_count": 56,
   "metadata": {},
   "outputs": [
    {
     "data": {
      "text/plain": [
       "59716"
      ]
     },
     "execution_count": 56,
     "metadata": {},
     "output_type": "execute_result"
    }
   ],
   "source": [
    "len(crash_data['RTE Name'].unique())"
   ]
  },
  {
   "cell_type": "code",
   "execution_count": null,
   "metadata": {},
   "outputs": [
    {
     "data": {
      "text/plain": [
       "18766"
      ]
     },
     "execution_count": 47,
     "metadata": {},
     "output_type": "execute_result"
    }
   ],
   "source": [
    "len(set(traffic_volume['ROUTE_NAME']).intersection(crash_data['RTE Name'])) # 18766 routes overlap"
   ]
  },
  {
   "cell_type": "code",
   "execution_count": 48,
   "metadata": {},
   "outputs": [
    {
     "data": {
      "text/plain": [
       "(121679, 37)"
      ]
     },
     "execution_count": 48,
     "metadata": {},
     "output_type": "execute_result"
    }
   ],
   "source": [
    "new_df.shape"
   ]
  },
  {
   "cell_type": "code",
   "execution_count": 49,
   "metadata": {},
   "outputs": [
    {
     "data": {
      "text/plain": [
       "OBJECTID                             0\n",
       "LINKID                               0\n",
       "DATA_DATE                            0\n",
       "ROUTE_COMMON_NAME                    0\n",
       "ROUTE_NAME                           0\n",
       "HTRIS_ID                           745\n",
       "ROUTE_ALIAS                          0\n",
       "START_LABEL                          0\n",
       "END_LABEL                            0\n",
       "ADT                                  3\n",
       "ADT_QUALITY                          0\n",
       "CLASS_QUALITY_CODE                   0\n",
       "K_FACTOR_QUALITY_CODE               63\n",
       "AAWDT_QUALITY_CODE                   6\n",
       "LOC_COMP_DIRECTIONALITY_NAME       196\n",
       "ROUTE_FROM_MEASURE                   0\n",
       "FROM_JURISDICTION                   19\n",
       "ROUTE_TO_MEASURE                     0\n",
       "TO_JURISDICTION                     13\n",
       "EVENT_SOURCE_ID                      0\n",
       "EVENT_LOCATION_ID                    0\n",
       "EVENT_COMPONENT_ID                   0\n",
       "MAXIMUMSCALEDENOMINATOR              9\n",
       "ROUTE_COMMON_NAME_ADT                0\n",
       "FROM_DISTRICT                      431\n",
       "TO_DISTRICT                        544\n",
       "RTE_TYPE_CD                          0\n",
       "RTE_ID                               0\n",
       "Shape__Length                      139\n",
       "DAY_WEEK                             0\n",
       "DAY                                  0\n",
       "MONTH                                0\n",
       "YEAR                                 0\n",
       "Unnamed: 0                      116822\n",
       "RTE Name                        116822\n",
       "Crash Date                      116822\n",
       "Total Crashes                   116822\n",
       "dtype: int64"
      ]
     },
     "execution_count": 49,
     "metadata": {},
     "output_type": "execute_result"
    }
   ],
   "source": [
    "new_df.isnull().sum()"
   ]
  },
  {
   "cell_type": "markdown",
   "metadata": {},
   "source": [
    "dropping route identifiers, addresses, etc and double columns from merge"
   ]
  },
  {
   "cell_type": "code",
   "execution_count": 67,
   "metadata": {},
   "outputs": [],
   "source": [
    "to_drop = ['ROUTE_COMMON_NAME', 'ROUTE_NAME', 'ROUTE_ALIAS', 'END_LABEL', 'START_LABEL', 'ADT_QUALITY', 'CLASS_QUALITY_CODE', 'K_FACTOR_QUALITY_CODE', 'AAWDT_QUALITY_CODE', 'MAXIMUMSCALEDENOMINATOR', 'ROUTE_COMMON_NAME_ADT','HTRIS_ID', 'Crash Date', 'RTE Name', 'Unnamed: 0', 'DATA_DATE', 'LINKID', 'OBJECTID']"
   ]
  },
  {
   "cell_type": "code",
   "execution_count": 68,
   "metadata": {},
   "outputs": [],
   "source": [
    "combined_df = new_df.drop(columns=to_drop)"
   ]
  },
  {
   "cell_type": "code",
   "execution_count": 69,
   "metadata": {},
   "outputs": [
    {
     "data": {
      "text/html": [
       "<div>\n",
       "<style scoped>\n",
       "    .dataframe tbody tr th:only-of-type {\n",
       "        vertical-align: middle;\n",
       "    }\n",
       "\n",
       "    .dataframe tbody tr th {\n",
       "        vertical-align: top;\n",
       "    }\n",
       "\n",
       "    .dataframe thead th {\n",
       "        text-align: right;\n",
       "    }\n",
       "</style>\n",
       "<table border=\"1\" class=\"dataframe\">\n",
       "  <thead>\n",
       "    <tr style=\"text-align: right;\">\n",
       "      <th></th>\n",
       "      <th>ADT</th>\n",
       "      <th>LOC_COMP_DIRECTIONALITY_NAME</th>\n",
       "      <th>ROUTE_FROM_MEASURE</th>\n",
       "      <th>FROM_JURISDICTION</th>\n",
       "      <th>ROUTE_TO_MEASURE</th>\n",
       "      <th>TO_JURISDICTION</th>\n",
       "      <th>EVENT_SOURCE_ID</th>\n",
       "      <th>EVENT_LOCATION_ID</th>\n",
       "      <th>EVENT_COMPONENT_ID</th>\n",
       "      <th>FROM_DISTRICT</th>\n",
       "      <th>TO_DISTRICT</th>\n",
       "      <th>RTE_TYPE_CD</th>\n",
       "      <th>RTE_ID</th>\n",
       "      <th>Shape__Length</th>\n",
       "      <th>DAY_WEEK</th>\n",
       "      <th>DAY</th>\n",
       "      <th>MONTH</th>\n",
       "      <th>YEAR</th>\n",
       "      <th>Total Crashes</th>\n",
       "    </tr>\n",
       "  </thead>\n",
       "  <tbody>\n",
       "    <tr>\n",
       "      <th>0</th>\n",
       "      <td>490.0</td>\n",
       "      <td>Bidirectional</td>\n",
       "      <td>0.000</td>\n",
       "      <td>Frederick County</td>\n",
       "      <td>0.24</td>\n",
       "      <td>Frederick County</td>\n",
       "      <td>795997</td>\n",
       "      <td>1</td>\n",
       "      <td>1</td>\n",
       "      <td>Staunton</td>\n",
       "      <td>Staunton</td>\n",
       "      <td>SC</td>\n",
       "      <td>2532756</td>\n",
       "      <td>478.381712</td>\n",
       "      <td>tuesday</td>\n",
       "      <td>7</td>\n",
       "      <td>6</td>\n",
       "      <td>2011</td>\n",
       "      <td>NaN</td>\n",
       "    </tr>\n",
       "    <tr>\n",
       "      <th>1</th>\n",
       "      <td>10.0</td>\n",
       "      <td>Bidirectional</td>\n",
       "      <td>0.620</td>\n",
       "      <td>Campbell County</td>\n",
       "      <td>0.64</td>\n",
       "      <td>Campbell County</td>\n",
       "      <td>709217</td>\n",
       "      <td>1</td>\n",
       "      <td>1</td>\n",
       "      <td>Lynchburg</td>\n",
       "      <td>Lynchburg</td>\n",
       "      <td>SC</td>\n",
       "      <td>1733670</td>\n",
       "      <td>47.494224</td>\n",
       "      <td>tuesday</td>\n",
       "      <td>10</td>\n",
       "      <td>12</td>\n",
       "      <td>2019</td>\n",
       "      <td>NaN</td>\n",
       "    </tr>\n",
       "    <tr>\n",
       "      <th>2</th>\n",
       "      <td>150.0</td>\n",
       "      <td>Bidirectional</td>\n",
       "      <td>3.180</td>\n",
       "      <td>Dickenson County</td>\n",
       "      <td>7.55</td>\n",
       "      <td>Dickenson County</td>\n",
       "      <td>720637</td>\n",
       "      <td>1</td>\n",
       "      <td>1</td>\n",
       "      <td>Bristol</td>\n",
       "      <td>Bristol</td>\n",
       "      <td>SC</td>\n",
       "      <td>1857885</td>\n",
       "      <td>8693.982351</td>\n",
       "      <td>monday</td>\n",
       "      <td>29</td>\n",
       "      <td>11</td>\n",
       "      <td>2021</td>\n",
       "      <td>NaN</td>\n",
       "    </tr>\n",
       "    <tr>\n",
       "      <th>3</th>\n",
       "      <td>47.0</td>\n",
       "      <td>Bidirectional</td>\n",
       "      <td>2.000</td>\n",
       "      <td>Nelson County</td>\n",
       "      <td>5.40</td>\n",
       "      <td>Nelson County</td>\n",
       "      <td>755648</td>\n",
       "      <td>1</td>\n",
       "      <td>1</td>\n",
       "      <td>Lynchburg</td>\n",
       "      <td>Lynchburg</td>\n",
       "      <td>SC</td>\n",
       "      <td>2111709</td>\n",
       "      <td>6516.476138</td>\n",
       "      <td>thursday</td>\n",
       "      <td>30</td>\n",
       "      <td>7</td>\n",
       "      <td>2020</td>\n",
       "      <td>NaN</td>\n",
       "    </tr>\n",
       "    <tr>\n",
       "      <th>4</th>\n",
       "      <td>30.0</td>\n",
       "      <td>Bidirectional</td>\n",
       "      <td>2.031</td>\n",
       "      <td>Washington County</td>\n",
       "      <td>2.08</td>\n",
       "      <td>Washington County</td>\n",
       "      <td>776797</td>\n",
       "      <td>1</td>\n",
       "      <td>1</td>\n",
       "      <td>Bristol</td>\n",
       "      <td>Bristol</td>\n",
       "      <td>SC</td>\n",
       "      <td>1594318</td>\n",
       "      <td>100.504177</td>\n",
       "      <td>friday</td>\n",
       "      <td>7</td>\n",
       "      <td>7</td>\n",
       "      <td>2017</td>\n",
       "      <td>NaN</td>\n",
       "    </tr>\n",
       "  </tbody>\n",
       "</table>\n",
       "</div>"
      ],
      "text/plain": [
       "     ADT LOC_COMP_DIRECTIONALITY_NAME  ROUTE_FROM_MEASURE  FROM_JURISDICTION  \\\n",
       "0  490.0                Bidirectional               0.000   Frederick County   \n",
       "1   10.0                Bidirectional               0.620    Campbell County   \n",
       "2  150.0                Bidirectional               3.180   Dickenson County   \n",
       "3   47.0                Bidirectional               2.000      Nelson County   \n",
       "4   30.0                Bidirectional               2.031  Washington County   \n",
       "\n",
       "   ROUTE_TO_MEASURE    TO_JURISDICTION  EVENT_SOURCE_ID  EVENT_LOCATION_ID  \\\n",
       "0              0.24   Frederick County           795997                  1   \n",
       "1              0.64    Campbell County           709217                  1   \n",
       "2              7.55   Dickenson County           720637                  1   \n",
       "3              5.40      Nelson County           755648                  1   \n",
       "4              2.08  Washington County           776797                  1   \n",
       "\n",
       "   EVENT_COMPONENT_ID FROM_DISTRICT TO_DISTRICT RTE_TYPE_CD   RTE_ID  \\\n",
       "0                   1      Staunton    Staunton          SC  2532756   \n",
       "1                   1     Lynchburg   Lynchburg          SC  1733670   \n",
       "2                   1       Bristol     Bristol          SC  1857885   \n",
       "3                   1     Lynchburg   Lynchburg          SC  2111709   \n",
       "4                   1       Bristol     Bristol          SC  1594318   \n",
       "\n",
       "   Shape__Length  DAY_WEEK  DAY  MONTH  YEAR  Total Crashes  \n",
       "0     478.381712   tuesday    7      6  2011            NaN  \n",
       "1      47.494224   tuesday   10     12  2019            NaN  \n",
       "2    8693.982351    monday   29     11  2021            NaN  \n",
       "3    6516.476138  thursday   30      7  2020            NaN  \n",
       "4     100.504177    friday    7      7  2017            NaN  "
      ]
     },
     "execution_count": 69,
     "metadata": {},
     "output_type": "execute_result"
    }
   ],
   "source": [
    "combined_df.head()"
   ]
  },
  {
   "cell_type": "code",
   "execution_count": 70,
   "metadata": {},
   "outputs": [
    {
     "name": "stdout",
     "output_type": "stream",
     "text": [
      "<class 'pandas.core.frame.DataFrame'>\n",
      "RangeIndex: 121679 entries, 0 to 121678\n",
      "Data columns (total 19 columns):\n",
      " #   Column                        Non-Null Count   Dtype  \n",
      "---  ------                        --------------   -----  \n",
      " 0   ADT                           121676 non-null  float64\n",
      " 1   LOC_COMP_DIRECTIONALITY_NAME  121483 non-null  object \n",
      " 2   ROUTE_FROM_MEASURE            121679 non-null  float64\n",
      " 3   FROM_JURISDICTION             121660 non-null  object \n",
      " 4   ROUTE_TO_MEASURE              121679 non-null  float64\n",
      " 5   TO_JURISDICTION               121666 non-null  object \n",
      " 6   EVENT_SOURCE_ID               121679 non-null  int64  \n",
      " 7   EVENT_LOCATION_ID             121679 non-null  int64  \n",
      " 8   EVENT_COMPONENT_ID            121679 non-null  int64  \n",
      " 9   FROM_DISTRICT                 121248 non-null  object \n",
      " 10  TO_DISTRICT                   121135 non-null  object \n",
      " 11  RTE_TYPE_CD                   121679 non-null  object \n",
      " 12  RTE_ID                        121679 non-null  int64  \n",
      " 13  Shape__Length                 121540 non-null  float64\n",
      " 14  DAY_WEEK                      121679 non-null  object \n",
      " 15  DAY                           121679 non-null  int64  \n",
      " 16  MONTH                         121679 non-null  int64  \n",
      " 17  YEAR                          121679 non-null  int64  \n",
      " 18  Total Crashes                 4857 non-null    float64\n",
      "dtypes: float64(5), int64(7), object(7)\n",
      "memory usage: 17.6+ MB\n"
     ]
    }
   ],
   "source": [
    "combined_df.info()"
   ]
  },
  {
   "cell_type": "code",
   "execution_count": 72,
   "metadata": {},
   "outputs": [
    {
     "name": "stdout",
     "output_type": "stream",
     "text": [
      "LOC_COMP_DIRECTIONALITY_NAME 4\n",
      "FROM_JURISDICTION 185\n",
      "TO_JURISDICTION 185\n",
      "FROM_DISTRICT 10\n",
      "TO_DISTRICT 10\n",
      "RTE_TYPE_CD 8\n",
      "DAY_WEEK 7\n"
     ]
    }
   ],
   "source": [
    "for feature in combined_df.select_dtypes(\"object\"):\n",
    "    print(feature, len(combined_df[feature].unique()))"
   ]
  },
  {
   "cell_type": "markdown",
   "metadata": {},
   "source": [
    "Final combined dataframe:"
   ]
  },
  {
   "cell_type": "code",
   "execution_count": 73,
   "metadata": {},
   "outputs": [
    {
     "data": {
      "text/html": [
       "<div>\n",
       "<style scoped>\n",
       "    .dataframe tbody tr th:only-of-type {\n",
       "        vertical-align: middle;\n",
       "    }\n",
       "\n",
       "    .dataframe tbody tr th {\n",
       "        vertical-align: top;\n",
       "    }\n",
       "\n",
       "    .dataframe thead th {\n",
       "        text-align: right;\n",
       "    }\n",
       "</style>\n",
       "<table border=\"1\" class=\"dataframe\">\n",
       "  <thead>\n",
       "    <tr style=\"text-align: right;\">\n",
       "      <th></th>\n",
       "      <th>ADT</th>\n",
       "      <th>LOC_COMP_DIRECTIONALITY_NAME</th>\n",
       "      <th>ROUTE_FROM_MEASURE</th>\n",
       "      <th>FROM_JURISDICTION</th>\n",
       "      <th>ROUTE_TO_MEASURE</th>\n",
       "      <th>TO_JURISDICTION</th>\n",
       "      <th>EVENT_SOURCE_ID</th>\n",
       "      <th>EVENT_LOCATION_ID</th>\n",
       "      <th>EVENT_COMPONENT_ID</th>\n",
       "      <th>FROM_DISTRICT</th>\n",
       "      <th>TO_DISTRICT</th>\n",
       "      <th>RTE_TYPE_CD</th>\n",
       "      <th>RTE_ID</th>\n",
       "      <th>Shape__Length</th>\n",
       "      <th>DAY_WEEK</th>\n",
       "      <th>DAY</th>\n",
       "      <th>MONTH</th>\n",
       "      <th>YEAR</th>\n",
       "      <th>Total Crashes</th>\n",
       "    </tr>\n",
       "  </thead>\n",
       "  <tbody>\n",
       "    <tr>\n",
       "      <th>0</th>\n",
       "      <td>490.0</td>\n",
       "      <td>Bidirectional</td>\n",
       "      <td>0.000</td>\n",
       "      <td>Frederick County</td>\n",
       "      <td>0.24</td>\n",
       "      <td>Frederick County</td>\n",
       "      <td>795997</td>\n",
       "      <td>1</td>\n",
       "      <td>1</td>\n",
       "      <td>Staunton</td>\n",
       "      <td>Staunton</td>\n",
       "      <td>SC</td>\n",
       "      <td>2532756</td>\n",
       "      <td>478.381712</td>\n",
       "      <td>tuesday</td>\n",
       "      <td>7</td>\n",
       "      <td>6</td>\n",
       "      <td>2011</td>\n",
       "      <td>NaN</td>\n",
       "    </tr>\n",
       "    <tr>\n",
       "      <th>1</th>\n",
       "      <td>10.0</td>\n",
       "      <td>Bidirectional</td>\n",
       "      <td>0.620</td>\n",
       "      <td>Campbell County</td>\n",
       "      <td>0.64</td>\n",
       "      <td>Campbell County</td>\n",
       "      <td>709217</td>\n",
       "      <td>1</td>\n",
       "      <td>1</td>\n",
       "      <td>Lynchburg</td>\n",
       "      <td>Lynchburg</td>\n",
       "      <td>SC</td>\n",
       "      <td>1733670</td>\n",
       "      <td>47.494224</td>\n",
       "      <td>tuesday</td>\n",
       "      <td>10</td>\n",
       "      <td>12</td>\n",
       "      <td>2019</td>\n",
       "      <td>NaN</td>\n",
       "    </tr>\n",
       "    <tr>\n",
       "      <th>2</th>\n",
       "      <td>150.0</td>\n",
       "      <td>Bidirectional</td>\n",
       "      <td>3.180</td>\n",
       "      <td>Dickenson County</td>\n",
       "      <td>7.55</td>\n",
       "      <td>Dickenson County</td>\n",
       "      <td>720637</td>\n",
       "      <td>1</td>\n",
       "      <td>1</td>\n",
       "      <td>Bristol</td>\n",
       "      <td>Bristol</td>\n",
       "      <td>SC</td>\n",
       "      <td>1857885</td>\n",
       "      <td>8693.982351</td>\n",
       "      <td>monday</td>\n",
       "      <td>29</td>\n",
       "      <td>11</td>\n",
       "      <td>2021</td>\n",
       "      <td>NaN</td>\n",
       "    </tr>\n",
       "    <tr>\n",
       "      <th>3</th>\n",
       "      <td>47.0</td>\n",
       "      <td>Bidirectional</td>\n",
       "      <td>2.000</td>\n",
       "      <td>Nelson County</td>\n",
       "      <td>5.40</td>\n",
       "      <td>Nelson County</td>\n",
       "      <td>755648</td>\n",
       "      <td>1</td>\n",
       "      <td>1</td>\n",
       "      <td>Lynchburg</td>\n",
       "      <td>Lynchburg</td>\n",
       "      <td>SC</td>\n",
       "      <td>2111709</td>\n",
       "      <td>6516.476138</td>\n",
       "      <td>thursday</td>\n",
       "      <td>30</td>\n",
       "      <td>7</td>\n",
       "      <td>2020</td>\n",
       "      <td>NaN</td>\n",
       "    </tr>\n",
       "    <tr>\n",
       "      <th>4</th>\n",
       "      <td>30.0</td>\n",
       "      <td>Bidirectional</td>\n",
       "      <td>2.031</td>\n",
       "      <td>Washington County</td>\n",
       "      <td>2.08</td>\n",
       "      <td>Washington County</td>\n",
       "      <td>776797</td>\n",
       "      <td>1</td>\n",
       "      <td>1</td>\n",
       "      <td>Bristol</td>\n",
       "      <td>Bristol</td>\n",
       "      <td>SC</td>\n",
       "      <td>1594318</td>\n",
       "      <td>100.504177</td>\n",
       "      <td>friday</td>\n",
       "      <td>7</td>\n",
       "      <td>7</td>\n",
       "      <td>2017</td>\n",
       "      <td>NaN</td>\n",
       "    </tr>\n",
       "  </tbody>\n",
       "</table>\n",
       "</div>"
      ],
      "text/plain": [
       "     ADT LOC_COMP_DIRECTIONALITY_NAME  ROUTE_FROM_MEASURE  FROM_JURISDICTION  \\\n",
       "0  490.0                Bidirectional               0.000   Frederick County   \n",
       "1   10.0                Bidirectional               0.620    Campbell County   \n",
       "2  150.0                Bidirectional               3.180   Dickenson County   \n",
       "3   47.0                Bidirectional               2.000      Nelson County   \n",
       "4   30.0                Bidirectional               2.031  Washington County   \n",
       "\n",
       "   ROUTE_TO_MEASURE    TO_JURISDICTION  EVENT_SOURCE_ID  EVENT_LOCATION_ID  \\\n",
       "0              0.24   Frederick County           795997                  1   \n",
       "1              0.64    Campbell County           709217                  1   \n",
       "2              7.55   Dickenson County           720637                  1   \n",
       "3              5.40      Nelson County           755648                  1   \n",
       "4              2.08  Washington County           776797                  1   \n",
       "\n",
       "   EVENT_COMPONENT_ID FROM_DISTRICT TO_DISTRICT RTE_TYPE_CD   RTE_ID  \\\n",
       "0                   1      Staunton    Staunton          SC  2532756   \n",
       "1                   1     Lynchburg   Lynchburg          SC  1733670   \n",
       "2                   1       Bristol     Bristol          SC  1857885   \n",
       "3                   1     Lynchburg   Lynchburg          SC  2111709   \n",
       "4                   1       Bristol     Bristol          SC  1594318   \n",
       "\n",
       "   Shape__Length  DAY_WEEK  DAY  MONTH  YEAR  Total Crashes  \n",
       "0     478.381712   tuesday    7      6  2011            NaN  \n",
       "1      47.494224   tuesday   10     12  2019            NaN  \n",
       "2    8693.982351    monday   29     11  2021            NaN  \n",
       "3    6516.476138  thursday   30      7  2020            NaN  \n",
       "4     100.504177    friday    7      7  2017            NaN  "
      ]
     },
     "execution_count": 73,
     "metadata": {},
     "output_type": "execute_result"
    }
   ],
   "source": [
    "combined_df.head()"
   ]
  },
  {
   "cell_type": "markdown",
   "metadata": {},
   "source": [
    "Transformation and model:"
   ]
  }
 ],
 "metadata": {
  "kernelspec": {
   "display_name": "Python 3",
   "language": "python",
   "name": "python3"
  },
  "language_info": {
   "codemirror_mode": {
    "name": "ipython",
    "version": 3
   },
   "file_extension": ".py",
   "mimetype": "text/x-python",
   "name": "python",
   "nbconvert_exporter": "python",
   "pygments_lexer": "ipython3",
   "version": "3.10.6"
  }
 },
 "nbformat": 4,
 "nbformat_minor": 2
}
